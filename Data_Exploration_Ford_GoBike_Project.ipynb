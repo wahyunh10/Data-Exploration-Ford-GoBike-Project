{
  "nbformat": 4,
  "nbformat_minor": 0,
  "metadata": {
    "colab": {
      "name": "Data Exploration Ford GoBike Project.ipynb",
      "provenance": [],
      "authorship_tag": "ABX9TyOAvYs7TUFmVVdP6Ko4LKXS",
      "include_colab_link": true
    },
    "kernelspec": {
      "name": "python3",
      "display_name": "Python 3"
    },
    "language_info": {
      "name": "python"
    }
  },
  "cells": [
    {
      "cell_type": "markdown",
      "metadata": {
        "id": "view-in-github",
        "colab_type": "text"
      },
      "source": [
        "<a href=\"https://colab.research.google.com/github/wahyunh10/Data-Exploration-Ford-GoBike-Project/blob/main/Data_Exploration_Ford_GoBike_Project.ipynb\" target=\"_parent\"><img src=\"https://colab.research.google.com/assets/colab-badge.svg\" alt=\"Open In Colab\"/></a>"
      ]
    },
    {
      "cell_type": "markdown",
      "source": [
        "# **Data Exploration Ford GoBike Project**"
      ],
      "metadata": {
        "id": "dNlIBLd7sEuc"
      }
    },
    {
      "cell_type": "markdown",
      "source": [
        "# **Table of Contents**\n",
        "---\n",
        "* Preliminary Wrangling\n",
        "1. Data Gathering & Assessing\n",
        "2. Data Cleaning\n",
        "\n",
        "\n",
        "* Data Exploration\n",
        "1. Univariate Exploration\n",
        "2. Bivariate Exploration\n",
        "3. Multivariate Exploration\n",
        "\n",
        "\n",
        "\n"
      ],
      "metadata": {
        "id": "EpZ7bjMKsMIN"
      }
    },
    {
      "cell_type": "markdown",
      "source": [
        "# **Preliminary Wrangling**\n",
        "\n",
        "Ford GoBike System Dataset includes information about individual rides made in a bike-sharing system covering the greater San Francisco Bay area in the year 2017."
      ],
      "metadata": {
        "id": "-mGlmz4VsuGi"
      }
    },
    {
      "cell_type": "code",
      "source": [
        "# import all packages and set plots to be embedded inline\n",
        "import numpy as np\n",
        "import pandas as pd\n",
        "import matplotlib.pyplot as plt\n",
        "import seaborn as sb\n",
        "import requests\n",
        "import datetime\n",
        "import os\n",
        "\n",
        "sb.set_style('darkgrid')\n",
        "%matplotlib inline\n",
        "\n",
        "# Input data files are available in the read-only \"../input/\" directory\n",
        "import os\n",
        "for dirname, _, filenames in os.walk('/kaggle/input/2017-ford-gobike-ridedata/2017_ford_go_bike_tripdata.csv'):\n",
        "    for filename in filenames:\n",
        "        print(os.path.join(dirname, filename))"
      ],
      "metadata": {
        "id": "T54ZRV2Zs7Xp"
      },
      "execution_count": 1,
      "outputs": []
    },
    {
      "cell_type": "markdown",
      "source": [
        "# **Data Gathering & Assessing**\n",
        "\n",
        "I have chose 2017 Ford GoBike System Dataset which consists of six months bike rides data(Jun-Dec)."
      ],
      "metadata": {
        "id": "34zfwW2qtSlq"
      }
    },
    {
      "cell_type": "code",
      "source": [
        "# Read data from csv file and Load it into dataframe    \n",
        "ford_df = pd.read_csv('2017-fordgobike-tripdata.csv')\n",
        "ford_df.head()"
      ],
      "metadata": {
        "colab": {
          "base_uri": "https://localhost:8080/",
          "height": 426
        },
        "id": "fKyo85dvtAWz",
        "outputId": "eec378b7-24c1-4b7b-f1f9-16ed8f404495"
      },
      "execution_count": 3,
      "outputs": [
        {
          "output_type": "execute_result",
          "data": {
            "text/plain": [
              "   duration_sec                start_time                  end_time  \\\n",
              "0         80110  2017-12-31 16:57:39.6540  2018-01-01 15:12:50.2450   \n",
              "1         78800  2017-12-31 15:56:34.8420  2018-01-01 13:49:55.6170   \n",
              "2         45768  2017-12-31 22:45:48.4110  2018-01-01 11:28:36.8830   \n",
              "3         62172  2017-12-31 17:31:10.6360  2018-01-01 10:47:23.5310   \n",
              "4         43603  2017-12-31 14:23:14.0010  2018-01-01 02:29:57.5710   \n",
              "\n",
              "   start_station_id                                 start_station_name  \\\n",
              "0                74                              Laguna St at Hayes St   \n",
              "1               284  Yerba Buena Center for the Arts (Howard St at ...   \n",
              "2               245                             Downtown Berkeley BART   \n",
              "3                60                               8th St at Ringold St   \n",
              "4               239                      Bancroft Way at Telegraph Ave   \n",
              "\n",
              "   start_station_latitude  start_station_longitude  end_station_id  \\\n",
              "0               37.776435              -122.426244              43   \n",
              "1               37.784872              -122.400876              96   \n",
              "2               37.870348              -122.267764             245   \n",
              "3               37.774520              -122.409449               5   \n",
              "4               37.868813              -122.258764             247   \n",
              "\n",
              "                                    end_station_name  end_station_latitude  \\\n",
              "0  San Francisco Public Library (Grove St at Hyde...             37.778768   \n",
              "1                              Dolores St at 15th St             37.766210   \n",
              "2                             Downtown Berkeley BART             37.870348   \n",
              "3       Powell St BART Station (Market St at 5th St)             37.783899   \n",
              "4                          Fulton St at Bancroft Way             37.867789   \n",
              "\n",
              "   end_station_longitude  bike_id   user_type  member_birth_year member_gender  \n",
              "0            -122.415929       96    Customer             1987.0          Male  \n",
              "1            -122.426614       88    Customer             1965.0        Female  \n",
              "2            -122.267764     1094    Customer                NaN           NaN  \n",
              "3            -122.408445     2831    Customer                NaN           NaN  \n",
              "4            -122.265896     3167  Subscriber             1997.0        Female  "
            ],
            "text/html": [
              "\n",
              "  <div id=\"df-a251a830-af2a-41a4-af0c-c7dde98f9e48\">\n",
              "    <div class=\"colab-df-container\">\n",
              "      <div>\n",
              "<style scoped>\n",
              "    .dataframe tbody tr th:only-of-type {\n",
              "        vertical-align: middle;\n",
              "    }\n",
              "\n",
              "    .dataframe tbody tr th {\n",
              "        vertical-align: top;\n",
              "    }\n",
              "\n",
              "    .dataframe thead th {\n",
              "        text-align: right;\n",
              "    }\n",
              "</style>\n",
              "<table border=\"1\" class=\"dataframe\">\n",
              "  <thead>\n",
              "    <tr style=\"text-align: right;\">\n",
              "      <th></th>\n",
              "      <th>duration_sec</th>\n",
              "      <th>start_time</th>\n",
              "      <th>end_time</th>\n",
              "      <th>start_station_id</th>\n",
              "      <th>start_station_name</th>\n",
              "      <th>start_station_latitude</th>\n",
              "      <th>start_station_longitude</th>\n",
              "      <th>end_station_id</th>\n",
              "      <th>end_station_name</th>\n",
              "      <th>end_station_latitude</th>\n",
              "      <th>end_station_longitude</th>\n",
              "      <th>bike_id</th>\n",
              "      <th>user_type</th>\n",
              "      <th>member_birth_year</th>\n",
              "      <th>member_gender</th>\n",
              "    </tr>\n",
              "  </thead>\n",
              "  <tbody>\n",
              "    <tr>\n",
              "      <th>0</th>\n",
              "      <td>80110</td>\n",
              "      <td>2017-12-31 16:57:39.6540</td>\n",
              "      <td>2018-01-01 15:12:50.2450</td>\n",
              "      <td>74</td>\n",
              "      <td>Laguna St at Hayes St</td>\n",
              "      <td>37.776435</td>\n",
              "      <td>-122.426244</td>\n",
              "      <td>43</td>\n",
              "      <td>San Francisco Public Library (Grove St at Hyde...</td>\n",
              "      <td>37.778768</td>\n",
              "      <td>-122.415929</td>\n",
              "      <td>96</td>\n",
              "      <td>Customer</td>\n",
              "      <td>1987.0</td>\n",
              "      <td>Male</td>\n",
              "    </tr>\n",
              "    <tr>\n",
              "      <th>1</th>\n",
              "      <td>78800</td>\n",
              "      <td>2017-12-31 15:56:34.8420</td>\n",
              "      <td>2018-01-01 13:49:55.6170</td>\n",
              "      <td>284</td>\n",
              "      <td>Yerba Buena Center for the Arts (Howard St at ...</td>\n",
              "      <td>37.784872</td>\n",
              "      <td>-122.400876</td>\n",
              "      <td>96</td>\n",
              "      <td>Dolores St at 15th St</td>\n",
              "      <td>37.766210</td>\n",
              "      <td>-122.426614</td>\n",
              "      <td>88</td>\n",
              "      <td>Customer</td>\n",
              "      <td>1965.0</td>\n",
              "      <td>Female</td>\n",
              "    </tr>\n",
              "    <tr>\n",
              "      <th>2</th>\n",
              "      <td>45768</td>\n",
              "      <td>2017-12-31 22:45:48.4110</td>\n",
              "      <td>2018-01-01 11:28:36.8830</td>\n",
              "      <td>245</td>\n",
              "      <td>Downtown Berkeley BART</td>\n",
              "      <td>37.870348</td>\n",
              "      <td>-122.267764</td>\n",
              "      <td>245</td>\n",
              "      <td>Downtown Berkeley BART</td>\n",
              "      <td>37.870348</td>\n",
              "      <td>-122.267764</td>\n",
              "      <td>1094</td>\n",
              "      <td>Customer</td>\n",
              "      <td>NaN</td>\n",
              "      <td>NaN</td>\n",
              "    </tr>\n",
              "    <tr>\n",
              "      <th>3</th>\n",
              "      <td>62172</td>\n",
              "      <td>2017-12-31 17:31:10.6360</td>\n",
              "      <td>2018-01-01 10:47:23.5310</td>\n",
              "      <td>60</td>\n",
              "      <td>8th St at Ringold St</td>\n",
              "      <td>37.774520</td>\n",
              "      <td>-122.409449</td>\n",
              "      <td>5</td>\n",
              "      <td>Powell St BART Station (Market St at 5th St)</td>\n",
              "      <td>37.783899</td>\n",
              "      <td>-122.408445</td>\n",
              "      <td>2831</td>\n",
              "      <td>Customer</td>\n",
              "      <td>NaN</td>\n",
              "      <td>NaN</td>\n",
              "    </tr>\n",
              "    <tr>\n",
              "      <th>4</th>\n",
              "      <td>43603</td>\n",
              "      <td>2017-12-31 14:23:14.0010</td>\n",
              "      <td>2018-01-01 02:29:57.5710</td>\n",
              "      <td>239</td>\n",
              "      <td>Bancroft Way at Telegraph Ave</td>\n",
              "      <td>37.868813</td>\n",
              "      <td>-122.258764</td>\n",
              "      <td>247</td>\n",
              "      <td>Fulton St at Bancroft Way</td>\n",
              "      <td>37.867789</td>\n",
              "      <td>-122.265896</td>\n",
              "      <td>3167</td>\n",
              "      <td>Subscriber</td>\n",
              "      <td>1997.0</td>\n",
              "      <td>Female</td>\n",
              "    </tr>\n",
              "  </tbody>\n",
              "</table>\n",
              "</div>\n",
              "      <button class=\"colab-df-convert\" onclick=\"convertToInteractive('df-a251a830-af2a-41a4-af0c-c7dde98f9e48')\"\n",
              "              title=\"Convert this dataframe to an interactive table.\"\n",
              "              style=\"display:none;\">\n",
              "        \n",
              "  <svg xmlns=\"http://www.w3.org/2000/svg\" height=\"24px\"viewBox=\"0 0 24 24\"\n",
              "       width=\"24px\">\n",
              "    <path d=\"M0 0h24v24H0V0z\" fill=\"none\"/>\n",
              "    <path d=\"M18.56 5.44l.94 2.06.94-2.06 2.06-.94-2.06-.94-.94-2.06-.94 2.06-2.06.94zm-11 1L8.5 8.5l.94-2.06 2.06-.94-2.06-.94L8.5 2.5l-.94 2.06-2.06.94zm10 10l.94 2.06.94-2.06 2.06-.94-2.06-.94-.94-2.06-.94 2.06-2.06.94z\"/><path d=\"M17.41 7.96l-1.37-1.37c-.4-.4-.92-.59-1.43-.59-.52 0-1.04.2-1.43.59L10.3 9.45l-7.72 7.72c-.78.78-.78 2.05 0 2.83L4 21.41c.39.39.9.59 1.41.59.51 0 1.02-.2 1.41-.59l7.78-7.78 2.81-2.81c.8-.78.8-2.07 0-2.86zM5.41 20L4 18.59l7.72-7.72 1.47 1.35L5.41 20z\"/>\n",
              "  </svg>\n",
              "      </button>\n",
              "      \n",
              "  <style>\n",
              "    .colab-df-container {\n",
              "      display:flex;\n",
              "      flex-wrap:wrap;\n",
              "      gap: 12px;\n",
              "    }\n",
              "\n",
              "    .colab-df-convert {\n",
              "      background-color: #E8F0FE;\n",
              "      border: none;\n",
              "      border-radius: 50%;\n",
              "      cursor: pointer;\n",
              "      display: none;\n",
              "      fill: #1967D2;\n",
              "      height: 32px;\n",
              "      padding: 0 0 0 0;\n",
              "      width: 32px;\n",
              "    }\n",
              "\n",
              "    .colab-df-convert:hover {\n",
              "      background-color: #E2EBFA;\n",
              "      box-shadow: 0px 1px 2px rgba(60, 64, 67, 0.3), 0px 1px 3px 1px rgba(60, 64, 67, 0.15);\n",
              "      fill: #174EA6;\n",
              "    }\n",
              "\n",
              "    [theme=dark] .colab-df-convert {\n",
              "      background-color: #3B4455;\n",
              "      fill: #D2E3FC;\n",
              "    }\n",
              "\n",
              "    [theme=dark] .colab-df-convert:hover {\n",
              "      background-color: #434B5C;\n",
              "      box-shadow: 0px 1px 3px 1px rgba(0, 0, 0, 0.15);\n",
              "      filter: drop-shadow(0px 1px 2px rgba(0, 0, 0, 0.3));\n",
              "      fill: #FFFFFF;\n",
              "    }\n",
              "  </style>\n",
              "\n",
              "      <script>\n",
              "        const buttonEl =\n",
              "          document.querySelector('#df-a251a830-af2a-41a4-af0c-c7dde98f9e48 button.colab-df-convert');\n",
              "        buttonEl.style.display =\n",
              "          google.colab.kernel.accessAllowed ? 'block' : 'none';\n",
              "\n",
              "        async function convertToInteractive(key) {\n",
              "          const element = document.querySelector('#df-a251a830-af2a-41a4-af0c-c7dde98f9e48');\n",
              "          const dataTable =\n",
              "            await google.colab.kernel.invokeFunction('convertToInteractive',\n",
              "                                                     [key], {});\n",
              "          if (!dataTable) return;\n",
              "\n",
              "          const docLinkHtml = 'Like what you see? Visit the ' +\n",
              "            '<a target=\"_blank\" href=https://colab.research.google.com/notebooks/data_table.ipynb>data table notebook</a>'\n",
              "            + ' to learn more about interactive tables.';\n",
              "          element.innerHTML = '';\n",
              "          dataTable['output_type'] = 'display_data';\n",
              "          await google.colab.output.renderOutput(dataTable, element);\n",
              "          const docLink = document.createElement('div');\n",
              "          docLink.innerHTML = docLinkHtml;\n",
              "          element.appendChild(docLink);\n",
              "        }\n",
              "      </script>\n",
              "    </div>\n",
              "  </div>\n",
              "  "
            ]
          },
          "metadata": {},
          "execution_count": 3
        }
      ]
    },
    {
      "cell_type": "code",
      "source": [
        "# high-level overview of data shape and composition\n",
        "ford_df.shape"
      ],
      "metadata": {
        "colab": {
          "base_uri": "https://localhost:8080/"
        },
        "id": "zMpbnJE55e2I",
        "outputId": "303d8004-1772-4b90-bd63-0a3a86460d1b"
      },
      "execution_count": 4,
      "outputs": [
        {
          "output_type": "execute_result",
          "data": {
            "text/plain": [
              "(519700, 15)"
            ]
          },
          "metadata": {},
          "execution_count": 4
        }
      ]
    },
    {
      "cell_type": "code",
      "source": [
        "ford_df.info()"
      ],
      "metadata": {
        "colab": {
          "base_uri": "https://localhost:8080/"
        },
        "id": "XzMkVloZ5hj7",
        "outputId": "f8aacf6f-8a56-41e0-b175-9915092162f4"
      },
      "execution_count": 5,
      "outputs": [
        {
          "output_type": "stream",
          "name": "stdout",
          "text": [
            "<class 'pandas.core.frame.DataFrame'>\n",
            "RangeIndex: 519700 entries, 0 to 519699\n",
            "Data columns (total 15 columns):\n",
            " #   Column                   Non-Null Count   Dtype  \n",
            "---  ------                   --------------   -----  \n",
            " 0   duration_sec             519700 non-null  int64  \n",
            " 1   start_time               519700 non-null  object \n",
            " 2   end_time                 519700 non-null  object \n",
            " 3   start_station_id         519700 non-null  int64  \n",
            " 4   start_station_name       519700 non-null  object \n",
            " 5   start_station_latitude   519700 non-null  float64\n",
            " 6   start_station_longitude  519700 non-null  float64\n",
            " 7   end_station_id           519700 non-null  int64  \n",
            " 8   end_station_name         519700 non-null  object \n",
            " 9   end_station_latitude     519700 non-null  float64\n",
            " 10  end_station_longitude    519700 non-null  float64\n",
            " 11  bike_id                  519700 non-null  int64  \n",
            " 12  user_type                519700 non-null  object \n",
            " 13  member_birth_year        453159 non-null  float64\n",
            " 14  member_gender            453238 non-null  object \n",
            "dtypes: float64(5), int64(4), object(6)\n",
            "memory usage: 59.5+ MB\n"
          ]
        }
      ]
    },
    {
      "cell_type": "code",
      "execution_count": 6,
      "metadata": {
        "colab": {
          "base_uri": "https://localhost:8080/"
        },
        "id": "mlGzvOOrrWrB",
        "outputId": "05e512da-9889-4949-ffae-efc0630786e5"
      },
      "outputs": [
        {
          "output_type": "execute_result",
          "data": {
            "text/plain": [
              "0"
            ]
          },
          "metadata": {},
          "execution_count": 6
        }
      ],
      "source": [
        "#check for duplicated values\n",
        "ford_df.duplicated().sum()"
      ]
    },
    {
      "cell_type": "code",
      "source": [
        "#check for null values\n",
        "ford_df.isna().sum()"
      ],
      "metadata": {
        "colab": {
          "base_uri": "https://localhost:8080/"
        },
        "id": "Bei16-F-5oyU",
        "outputId": "844de087-5377-45f6-e672-e009f82cb967"
      },
      "execution_count": 7,
      "outputs": [
        {
          "output_type": "execute_result",
          "data": {
            "text/plain": [
              "duration_sec                   0\n",
              "start_time                     0\n",
              "end_time                       0\n",
              "start_station_id               0\n",
              "start_station_name             0\n",
              "start_station_latitude         0\n",
              "start_station_longitude        0\n",
              "end_station_id                 0\n",
              "end_station_name               0\n",
              "end_station_latitude           0\n",
              "end_station_longitude          0\n",
              "bike_id                        0\n",
              "user_type                      0\n",
              "member_birth_year          66541\n",
              "member_gender              66462\n",
              "dtype: int64"
            ]
          },
          "metadata": {},
          "execution_count": 7
        }
      ]
    },
    {
      "cell_type": "markdown",
      "source": [
        "**Observations:**\n",
        "\n",
        "* Missing values in the dataset\n",
        "* Erreneous data types:\n",
        " start_time and end_time types are object instead of datetime type\n",
        "\n",
        "  - member_birth_year should be type of int\n",
        "  - start_station_id, end_station_id, and bike_id can be str type\n",
        "  - user_type and member_gender can be type of category\n",
        "* Unwanted columns"
      ],
      "metadata": {
        "id": "uBGhDz2d5umq"
      }
    },
    {
      "cell_type": "markdown",
      "source": [
        "# **Data Cleaning**"
      ],
      "metadata": {
        "id": "4sHoUIpB9NFt"
      }
    },
    {
      "cell_type": "code",
      "source": [
        "# Before cleaning, make copy of original datasets\n",
        "ford_clean = ford_df.copy()"
      ],
      "metadata": {
        "id": "any377PF9RDf"
      },
      "execution_count": 8,
      "outputs": []
    },
    {
      "cell_type": "markdown",
      "source": [
        "**Issue 1: Missing values in the dataset**\n",
        "\n",
        "**Define** Drop the null values from the dataset"
      ],
      "metadata": {
        "id": "P0VyP2gh9T8T"
      }
    },
    {
      "cell_type": "code",
      "source": [
        "#drop the null values from dataset\n",
        "ford_clean.dropna(how = 'any', axis = 0, inplace=True)"
      ],
      "metadata": {
        "id": "v_fCroAt9XPK"
      },
      "execution_count": 9,
      "outputs": []
    },
    {
      "cell_type": "markdown",
      "source": [
        "**Test**"
      ],
      "metadata": {
        "id": "mirYQyCU9bvp"
      }
    },
    {
      "cell_type": "code",
      "source": [
        "# check whether null values are dropped\n",
        "ford_clean.isna().sum()"
      ],
      "metadata": {
        "colab": {
          "base_uri": "https://localhost:8080/"
        },
        "id": "EB9PMaaF9cbU",
        "outputId": "642d3412-d4d9-4f01-e3f4-b87b24292b5a"
      },
      "execution_count": 10,
      "outputs": [
        {
          "output_type": "execute_result",
          "data": {
            "text/plain": [
              "duration_sec               0\n",
              "start_time                 0\n",
              "end_time                   0\n",
              "start_station_id           0\n",
              "start_station_name         0\n",
              "start_station_latitude     0\n",
              "start_station_longitude    0\n",
              "end_station_id             0\n",
              "end_station_name           0\n",
              "end_station_latitude       0\n",
              "end_station_longitude      0\n",
              "bike_id                    0\n",
              "user_type                  0\n",
              "member_birth_year          0\n",
              "member_gender              0\n",
              "dtype: int64"
            ]
          },
          "metadata": {},
          "execution_count": 10
        }
      ]
    },
    {
      "cell_type": "markdown",
      "source": [
        "**Issue 2: Erreneous data types**\n",
        "\n",
        "**Define** \n",
        "\n",
        "* convert start_time and end_time types from object to datetime\n",
        "* convert member_birth_year type from float to int\n",
        "* convert start_station_id, end_station_id, and bike_id to str type\n",
        "* convert user_type and member_gender to type of category"
      ],
      "metadata": {
        "id": "qI9zYcKh9hLv"
      }
    },
    {
      "cell_type": "code",
      "source": [
        "# convert the data type of start_time and end_time to datetime.\n",
        "ford_clean.start_time = pd.to_datetime(ford_clean.start_time)\n",
        "ford_clean.end_time = pd.to_datetime(ford_clean.end_time)\n",
        "\n",
        "# convert member_birth_year from float64 to int\n",
        "ford_clean.member_birth_year = ford_clean.member_birth_year.astype(int)\n",
        "\n",
        "# convert ids from object to str\n",
        "ford_clean.start_station_id = ford_clean.start_station_id.astype(str)\n",
        "ford_clean.end_station_id = ford_clean.end_station_id.astype(str)\n",
        "ford_clean.bike_id = ford_clean.bike_id.astype(str)\n",
        "\n",
        "\n",
        "# convert user_type and member_gender datatype into category\n",
        "ford_clean.user_type = ford_clean.user_type.astype('category')\n",
        "ford_clean.member_gender = ford_clean.member_gender.astype('category')"
      ],
      "metadata": {
        "id": "73S4MDUC-Cyn"
      },
      "execution_count": 11,
      "outputs": []
    },
    {
      "cell_type": "markdown",
      "source": [
        "**Test**"
      ],
      "metadata": {
        "id": "8QFNZQvn-Due"
      }
    },
    {
      "cell_type": "code",
      "source": [
        "# check whether data type are converted correctly\n",
        "ford_clean.info()"
      ],
      "metadata": {
        "colab": {
          "base_uri": "https://localhost:8080/"
        },
        "id": "Db7eXYGO-FoV",
        "outputId": "7e72b3e4-9c42-435c-84b2-43de0b055843"
      },
      "execution_count": 12,
      "outputs": [
        {
          "output_type": "stream",
          "name": "stdout",
          "text": [
            "<class 'pandas.core.frame.DataFrame'>\n",
            "Int64Index: 453159 entries, 0 to 519699\n",
            "Data columns (total 15 columns):\n",
            " #   Column                   Non-Null Count   Dtype         \n",
            "---  ------                   --------------   -----         \n",
            " 0   duration_sec             453159 non-null  int64         \n",
            " 1   start_time               453159 non-null  datetime64[ns]\n",
            " 2   end_time                 453159 non-null  datetime64[ns]\n",
            " 3   start_station_id         453159 non-null  object        \n",
            " 4   start_station_name       453159 non-null  object        \n",
            " 5   start_station_latitude   453159 non-null  float64       \n",
            " 6   start_station_longitude  453159 non-null  float64       \n",
            " 7   end_station_id           453159 non-null  object        \n",
            " 8   end_station_name         453159 non-null  object        \n",
            " 9   end_station_latitude     453159 non-null  float64       \n",
            " 10  end_station_longitude    453159 non-null  float64       \n",
            " 11  bike_id                  453159 non-null  object        \n",
            " 12  user_type                453159 non-null  category      \n",
            " 13  member_birth_year        453159 non-null  int64         \n",
            " 14  member_gender            453159 non-null  category      \n",
            "dtypes: category(2), datetime64[ns](2), float64(4), int64(2), object(5)\n",
            "memory usage: 49.3+ MB\n"
          ]
        }
      ]
    },
    {
      "cell_type": "markdown",
      "source": [
        "**Issue 3: Unwanted Columns**\n",
        "\n",
        "**Define** Drop the unused columns using dropna() method"
      ],
      "metadata": {
        "id": "eURI8OSW-Ndl"
      }
    },
    {
      "cell_type": "code",
      "source": [
        "# drop the unused columns\n",
        "ford_clean.drop(['start_station_latitude','start_station_longitude','end_station_latitude','end_station_longitude'], axis = 1 , inplace = True)"
      ],
      "metadata": {
        "id": "rQm4fEBB-QNn"
      },
      "execution_count": 13,
      "outputs": []
    },
    {
      "cell_type": "markdown",
      "source": [
        "**Test**"
      ],
      "metadata": {
        "id": "WgAG8BNY-SuT"
      }
    },
    {
      "cell_type": "code",
      "source": [
        "# check whether columns are dropped\n",
        "ford_clean.columns"
      ],
      "metadata": {
        "colab": {
          "base_uri": "https://localhost:8080/"
        },
        "id": "k0YP5Tss-ZRg",
        "outputId": "5254a0c7-6c20-4a1f-dad2-fa458fe31e80"
      },
      "execution_count": 14,
      "outputs": [
        {
          "output_type": "execute_result",
          "data": {
            "text/plain": [
              "Index(['duration_sec', 'start_time', 'end_time', 'start_station_id',\n",
              "       'start_station_name', 'end_station_id', 'end_station_name', 'bike_id',\n",
              "       'user_type', 'member_birth_year', 'member_gender'],\n",
              "      dtype='object')"
            ]
          },
          "metadata": {},
          "execution_count": 14
        }
      ]
    },
    {
      "cell_type": "markdown",
      "source": [
        "**Feature Engineering**\n",
        "\n",
        "To make the analysis easy, lets fetch time of day, day of the week, or month of the year from start_time\n",
        "\n",
        "\n"
      ],
      "metadata": {
        "id": "J0cmDHNF-fOg"
      }
    },
    {
      "cell_type": "code",
      "source": [
        "# use strftime() method to scrap the time data\n",
        "ford_clean['start_day'] = ford_clean['start_time'].apply(lambda x: x.strftime('%A')).astype('category')\n",
        "ford_clean['start_month'] = ford_clean['start_time'].apply(lambda x: x.strftime('%b')).astype('category')\n",
        "ford_clean['start_hour'] = ford_clean['start_time'].apply(lambda x: x.strftime('%H')).astype(int)\n",
        "\n",
        "# Lets calcluate the member age from the birthyear\n",
        "ford_clean['member_age'] = 2017 - ford_clean['member_birth_year']"
      ],
      "metadata": {
        "id": "XFP0bKju-d4V"
      },
      "execution_count": 15,
      "outputs": []
    },
    {
      "cell_type": "code",
      "source": [
        "# Brief summary of cleaned DataFrame\n",
        "ford_clean.info()"
      ],
      "metadata": {
        "colab": {
          "base_uri": "https://localhost:8080/"
        },
        "id": "7ALQ_YotCHcN",
        "outputId": "a3080d78-576b-4fe4-ac2b-e28bdbf4e236"
      },
      "execution_count": 16,
      "outputs": [
        {
          "output_type": "stream",
          "name": "stdout",
          "text": [
            "<class 'pandas.core.frame.DataFrame'>\n",
            "Int64Index: 453159 entries, 0 to 519699\n",
            "Data columns (total 15 columns):\n",
            " #   Column              Non-Null Count   Dtype         \n",
            "---  ------              --------------   -----         \n",
            " 0   duration_sec        453159 non-null  int64         \n",
            " 1   start_time          453159 non-null  datetime64[ns]\n",
            " 2   end_time            453159 non-null  datetime64[ns]\n",
            " 3   start_station_id    453159 non-null  object        \n",
            " 4   start_station_name  453159 non-null  object        \n",
            " 5   end_station_id      453159 non-null  object        \n",
            " 6   end_station_name    453159 non-null  object        \n",
            " 7   bike_id             453159 non-null  object        \n",
            " 8   user_type           453159 non-null  category      \n",
            " 9   member_birth_year   453159 non-null  int64         \n",
            " 10  member_gender       453159 non-null  category      \n",
            " 11  start_day           453159 non-null  category      \n",
            " 12  start_month         453159 non-null  category      \n",
            " 13  start_hour          453159 non-null  int64         \n",
            " 14  member_age          453159 non-null  int64         \n",
            "dtypes: category(4), datetime64[ns](2), int64(4), object(5)\n",
            "memory usage: 43.2+ MB\n"
          ]
        }
      ]
    },
    {
      "cell_type": "markdown",
      "source": [
        "**Storing cleaned Dataset :**"
      ],
      "metadata": {
        "id": "vADozRk1CZJa"
      }
    },
    {
      "cell_type": "code",
      "source": [
        "ford_clean.to_csv('cleaned-fordgobike-tripdata-2017.csv', encoding='utf-8', index=False)"
      ],
      "metadata": {
        "id": "ceyIi_jlCZ1N"
      },
      "execution_count": 17,
      "outputs": []
    },
    {
      "cell_type": "code",
      "source": [
        "# Read data from csv file and Load it into dataframe\n",
        "df = pd.read_csv('cleaned-fordgobike-tripdata-2017.csv')\n",
        "df.sample(2)"
      ],
      "metadata": {
        "colab": {
          "base_uri": "https://localhost:8080/",
          "height": 211
        },
        "id": "z9EXmdywCgUK",
        "outputId": "9c32cd18-e864-437c-9a46-ac0400c950ae"
      },
      "execution_count": 19,
      "outputs": [
        {
          "output_type": "execute_result",
          "data": {
            "text/plain": [
              "        duration_sec               start_time                 end_time  \\\n",
              "89777            465  2017-11-28 08:01:31.757  2017-11-28 08:09:17.044   \n",
              "429196          1581  2017-07-22 11:35:33.132  2017-07-22 12:01:54.136   \n",
              "\n",
              "        start_station_id  start_station_name  end_station_id  \\\n",
              "89777                323  Broadway at Kearny              23   \n",
              "429196                81  Berry St at 4th St              28   \n",
              "\n",
              "                     end_station_name  bike_id   user_type  member_birth_year  \\\n",
              "89777   The Embarcadero at Steuart St     2218  Subscriber               1977   \n",
              "429196   The Embarcadero at Bryant St     2028  Subscriber               1987   \n",
              "\n",
              "       member_gender start_day start_month  start_hour  member_age  \n",
              "89777           Male   Tuesday         Nov           8          40  \n",
              "429196          Male  Saturday         Jul          11          30  "
            ],
            "text/html": [
              "\n",
              "  <div id=\"df-27ccf9f8-2235-4d1f-8939-164d4199f226\">\n",
              "    <div class=\"colab-df-container\">\n",
              "      <div>\n",
              "<style scoped>\n",
              "    .dataframe tbody tr th:only-of-type {\n",
              "        vertical-align: middle;\n",
              "    }\n",
              "\n",
              "    .dataframe tbody tr th {\n",
              "        vertical-align: top;\n",
              "    }\n",
              "\n",
              "    .dataframe thead th {\n",
              "        text-align: right;\n",
              "    }\n",
              "</style>\n",
              "<table border=\"1\" class=\"dataframe\">\n",
              "  <thead>\n",
              "    <tr style=\"text-align: right;\">\n",
              "      <th></th>\n",
              "      <th>duration_sec</th>\n",
              "      <th>start_time</th>\n",
              "      <th>end_time</th>\n",
              "      <th>start_station_id</th>\n",
              "      <th>start_station_name</th>\n",
              "      <th>end_station_id</th>\n",
              "      <th>end_station_name</th>\n",
              "      <th>bike_id</th>\n",
              "      <th>user_type</th>\n",
              "      <th>member_birth_year</th>\n",
              "      <th>member_gender</th>\n",
              "      <th>start_day</th>\n",
              "      <th>start_month</th>\n",
              "      <th>start_hour</th>\n",
              "      <th>member_age</th>\n",
              "    </tr>\n",
              "  </thead>\n",
              "  <tbody>\n",
              "    <tr>\n",
              "      <th>89777</th>\n",
              "      <td>465</td>\n",
              "      <td>2017-11-28 08:01:31.757</td>\n",
              "      <td>2017-11-28 08:09:17.044</td>\n",
              "      <td>323</td>\n",
              "      <td>Broadway at Kearny</td>\n",
              "      <td>23</td>\n",
              "      <td>The Embarcadero at Steuart St</td>\n",
              "      <td>2218</td>\n",
              "      <td>Subscriber</td>\n",
              "      <td>1977</td>\n",
              "      <td>Male</td>\n",
              "      <td>Tuesday</td>\n",
              "      <td>Nov</td>\n",
              "      <td>8</td>\n",
              "      <td>40</td>\n",
              "    </tr>\n",
              "    <tr>\n",
              "      <th>429196</th>\n",
              "      <td>1581</td>\n",
              "      <td>2017-07-22 11:35:33.132</td>\n",
              "      <td>2017-07-22 12:01:54.136</td>\n",
              "      <td>81</td>\n",
              "      <td>Berry St at 4th St</td>\n",
              "      <td>28</td>\n",
              "      <td>The Embarcadero at Bryant St</td>\n",
              "      <td>2028</td>\n",
              "      <td>Subscriber</td>\n",
              "      <td>1987</td>\n",
              "      <td>Male</td>\n",
              "      <td>Saturday</td>\n",
              "      <td>Jul</td>\n",
              "      <td>11</td>\n",
              "      <td>30</td>\n",
              "    </tr>\n",
              "  </tbody>\n",
              "</table>\n",
              "</div>\n",
              "      <button class=\"colab-df-convert\" onclick=\"convertToInteractive('df-27ccf9f8-2235-4d1f-8939-164d4199f226')\"\n",
              "              title=\"Convert this dataframe to an interactive table.\"\n",
              "              style=\"display:none;\">\n",
              "        \n",
              "  <svg xmlns=\"http://www.w3.org/2000/svg\" height=\"24px\"viewBox=\"0 0 24 24\"\n",
              "       width=\"24px\">\n",
              "    <path d=\"M0 0h24v24H0V0z\" fill=\"none\"/>\n",
              "    <path d=\"M18.56 5.44l.94 2.06.94-2.06 2.06-.94-2.06-.94-.94-2.06-.94 2.06-2.06.94zm-11 1L8.5 8.5l.94-2.06 2.06-.94-2.06-.94L8.5 2.5l-.94 2.06-2.06.94zm10 10l.94 2.06.94-2.06 2.06-.94-2.06-.94-.94-2.06-.94 2.06-2.06.94z\"/><path d=\"M17.41 7.96l-1.37-1.37c-.4-.4-.92-.59-1.43-.59-.52 0-1.04.2-1.43.59L10.3 9.45l-7.72 7.72c-.78.78-.78 2.05 0 2.83L4 21.41c.39.39.9.59 1.41.59.51 0 1.02-.2 1.41-.59l7.78-7.78 2.81-2.81c.8-.78.8-2.07 0-2.86zM5.41 20L4 18.59l7.72-7.72 1.47 1.35L5.41 20z\"/>\n",
              "  </svg>\n",
              "      </button>\n",
              "      \n",
              "  <style>\n",
              "    .colab-df-container {\n",
              "      display:flex;\n",
              "      flex-wrap:wrap;\n",
              "      gap: 12px;\n",
              "    }\n",
              "\n",
              "    .colab-df-convert {\n",
              "      background-color: #E8F0FE;\n",
              "      border: none;\n",
              "      border-radius: 50%;\n",
              "      cursor: pointer;\n",
              "      display: none;\n",
              "      fill: #1967D2;\n",
              "      height: 32px;\n",
              "      padding: 0 0 0 0;\n",
              "      width: 32px;\n",
              "    }\n",
              "\n",
              "    .colab-df-convert:hover {\n",
              "      background-color: #E2EBFA;\n",
              "      box-shadow: 0px 1px 2px rgba(60, 64, 67, 0.3), 0px 1px 3px 1px rgba(60, 64, 67, 0.15);\n",
              "      fill: #174EA6;\n",
              "    }\n",
              "\n",
              "    [theme=dark] .colab-df-convert {\n",
              "      background-color: #3B4455;\n",
              "      fill: #D2E3FC;\n",
              "    }\n",
              "\n",
              "    [theme=dark] .colab-df-convert:hover {\n",
              "      background-color: #434B5C;\n",
              "      box-shadow: 0px 1px 3px 1px rgba(0, 0, 0, 0.15);\n",
              "      filter: drop-shadow(0px 1px 2px rgba(0, 0, 0, 0.3));\n",
              "      fill: #FFFFFF;\n",
              "    }\n",
              "  </style>\n",
              "\n",
              "      <script>\n",
              "        const buttonEl =\n",
              "          document.querySelector('#df-27ccf9f8-2235-4d1f-8939-164d4199f226 button.colab-df-convert');\n",
              "        buttonEl.style.display =\n",
              "          google.colab.kernel.accessAllowed ? 'block' : 'none';\n",
              "\n",
              "        async function convertToInteractive(key) {\n",
              "          const element = document.querySelector('#df-27ccf9f8-2235-4d1f-8939-164d4199f226');\n",
              "          const dataTable =\n",
              "            await google.colab.kernel.invokeFunction('convertToInteractive',\n",
              "                                                     [key], {});\n",
              "          if (!dataTable) return;\n",
              "\n",
              "          const docLinkHtml = 'Like what you see? Visit the ' +\n",
              "            '<a target=\"_blank\" href=https://colab.research.google.com/notebooks/data_table.ipynb>data table notebook</a>'\n",
              "            + ' to learn more about interactive tables.';\n",
              "          element.innerHTML = '';\n",
              "          dataTable['output_type'] = 'display_data';\n",
              "          await google.colab.output.renderOutput(dataTable, element);\n",
              "          const docLink = document.createElement('div');\n",
              "          docLink.innerHTML = docLinkHtml;\n",
              "          element.appendChild(docLink);\n",
              "        }\n",
              "      </script>\n",
              "    </div>\n",
              "  </div>\n",
              "  "
            ]
          },
          "metadata": {},
          "execution_count": 19
        }
      ]
    },
    {
      "cell_type": "markdown",
      "source": [
        "# **Data Exploration**"
      ],
      "metadata": {
        "id": "rMtGm8WQCqvJ"
      }
    },
    {
      "cell_type": "markdown",
      "source": [
        "**What is the structure of your dataset?**\n",
        "\n",
        "\n",
        "\n",
        "> The dataset consists of 453159 bike ride entries and 15 features"
      ],
      "metadata": {
        "id": "kjENQ93lCuYL"
      }
    },
    {
      "cell_type": "markdown",
      "source": [
        "**What is/are the main feature(s) of interest in your dataset?**\n",
        "\n",
        "\n",
        "\n",
        "> * Most interested features in this dataset are bike ride start_time (in terms of month of the year, day of the week, or hour of the day) and ride duration. Does it depends on characteristics of the riders?\n",
        "\n"
      ],
      "metadata": {
        "id": "N_UbyvERDIbD"
      }
    },
    {
      "cell_type": "markdown",
      "source": [
        "**What features in the dataset do you think will help support your investigation into your feature(s) of interest?**\n",
        "\n",
        "\n",
        "\n",
        "> I expect time_characteristics and duration_sec highly depends on below characteristics of the riders,\n",
        "\n",
        "* *user_type*\n",
        "* *member_gender*\n",
        "* *member_age*\n",
        "\n"
      ],
      "metadata": {
        "id": "fnre2ptWDQ2G"
      }
    },
    {
      "cell_type": "markdown",
      "source": [
        "# **Univariate Exploration**"
      ],
      "metadata": {
        "id": "KncuTxw4Db2S"
      }
    },
    {
      "cell_type": "code",
      "source": [
        "# set the default color\n",
        "default_color = sb.color_palette()[0]"
      ],
      "metadata": {
        "id": "ei3qmhlyCk-e"
      },
      "execution_count": 20,
      "outputs": []
    }
  ]
}