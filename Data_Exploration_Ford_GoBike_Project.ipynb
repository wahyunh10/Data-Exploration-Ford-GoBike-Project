{
  "nbformat": 4,
  "nbformat_minor": 0,
  "metadata": {
    "colab": {
      "name": "Data Exploration Ford GoBike Project.ipynb",
      "provenance": [],
      "authorship_tag": "ABX9TyP4pKK7o+wKlmxTvXtGBeSj",
      "include_colab_link": true
    },
    "kernelspec": {
      "name": "python3",
      "display_name": "Python 3"
    },
    "language_info": {
      "name": "python"
    }
  },
  "cells": [
    {
      "cell_type": "markdown",
      "metadata": {
        "id": "view-in-github",
        "colab_type": "text"
      },
      "source": [
        "<a href=\"https://colab.research.google.com/github/wahyunh10/Data-Exploration-Ford-GoBike-Project/blob/main/Data_Exploration_Ford_GoBike_Project.ipynb\" target=\"_parent\"><img src=\"https://colab.research.google.com/assets/colab-badge.svg\" alt=\"Open In Colab\"/></a>"
      ]
    },
    {
      "cell_type": "markdown",
      "source": [
        "# **Data Exploration Ford GoBike Project**"
      ],
      "metadata": {
        "id": "dNlIBLd7sEuc"
      }
    },
    {
      "cell_type": "markdown",
      "source": [
        "# **Table of Contents**\n",
        "---\n",
        "* Preliminary Wrangling\n",
        "1. Data Gathering & Assessing\n",
        "2. Data Cleaning\n",
        "\n",
        "\n",
        "* Data Exploration\n",
        "1. Univariate Exploration\n",
        "2. Bivariate Exploration\n",
        "3. Multivariate Exploration\n",
        "\n",
        "\n",
        "\n"
      ],
      "metadata": {
        "id": "EpZ7bjMKsMIN"
      }
    },
    {
      "cell_type": "markdown",
      "source": [
        "# **Preliminary Wrangling**\n",
        "\n",
        "Ford GoBike System Dataset includes information about individual rides made in a bike-sharing system covering the greater San Francisco Bay area in the year 2017."
      ],
      "metadata": {
        "id": "-mGlmz4VsuGi"
      }
    },
    {
      "cell_type": "code",
      "source": [
        "# import all packages and set plots to be embedded inline\n",
        "import numpy as np\n",
        "import pandas as pd\n",
        "import matplotlib.pyplot as plt\n",
        "import seaborn as sb\n",
        "import requests\n",
        "import datetime\n",
        "import os\n",
        "\n",
        "sb.set_style('darkgrid')\n",
        "%matplotlib inline\n",
        "\n",
        "# Input data files are available in the read-only \"../input/\" directory\n",
        "import os\n",
        "for dirname, _, filenames in os.walk('/kaggle/input/2017-ford-gobike-ridedata/2017_ford_go_bike_tripdata.csv'):\n",
        "    for filename in filenames:\n",
        "        print(os.path.join(dirname, filename))"
      ],
      "metadata": {
        "id": "T54ZRV2Zs7Xp"
      },
      "execution_count": null,
      "outputs": []
    },
    {
      "cell_type": "markdown",
      "source": [
        "# **Data Gathering & Assessing**\n",
        "\n",
        "I have chose 2017 Ford GoBike System Dataset which consists of six months bike rides data(Jun-Dec)."
      ],
      "metadata": {
        "id": "34zfwW2qtSlq"
      }
    },
    {
      "cell_type": "code",
      "source": [
        "# Read data from csv file and Load it into dataframe    \n",
        "ford_df = pd.read_csv('2017-fordgobike-tripdata.csv')\n",
        "ford_df.head()"
      ],
      "metadata": {
        "colab": {
          "base_uri": "https://localhost:8080/",
          "height": 426
        },
        "id": "fKyo85dvtAWz",
        "outputId": "eec378b7-24c1-4b7b-f1f9-16ed8f404495"
      },
      "execution_count": null,
      "outputs": [
        {
          "output_type": "execute_result",
          "data": {
            "text/plain": [
              "   duration_sec                start_time                  end_time  \\\n",
              "0         80110  2017-12-31 16:57:39.6540  2018-01-01 15:12:50.2450   \n",
              "1         78800  2017-12-31 15:56:34.8420  2018-01-01 13:49:55.6170   \n",
              "2         45768  2017-12-31 22:45:48.4110  2018-01-01 11:28:36.8830   \n",
              "3         62172  2017-12-31 17:31:10.6360  2018-01-01 10:47:23.5310   \n",
              "4         43603  2017-12-31 14:23:14.0010  2018-01-01 02:29:57.5710   \n",
              "\n",
              "   start_station_id                                 start_station_name  \\\n",
              "0                74                              Laguna St at Hayes St   \n",
              "1               284  Yerba Buena Center for the Arts (Howard St at ...   \n",
              "2               245                             Downtown Berkeley BART   \n",
              "3                60                               8th St at Ringold St   \n",
              "4               239                      Bancroft Way at Telegraph Ave   \n",
              "\n",
              "   start_station_latitude  start_station_longitude  end_station_id  \\\n",
              "0               37.776435              -122.426244              43   \n",
              "1               37.784872              -122.400876              96   \n",
              "2               37.870348              -122.267764             245   \n",
              "3               37.774520              -122.409449               5   \n",
              "4               37.868813              -122.258764             247   \n",
              "\n",
              "                                    end_station_name  end_station_latitude  \\\n",
              "0  San Francisco Public Library (Grove St at Hyde...             37.778768   \n",
              "1                              Dolores St at 15th St             37.766210   \n",
              "2                             Downtown Berkeley BART             37.870348   \n",
              "3       Powell St BART Station (Market St at 5th St)             37.783899   \n",
              "4                          Fulton St at Bancroft Way             37.867789   \n",
              "\n",
              "   end_station_longitude  bike_id   user_type  member_birth_year member_gender  \n",
              "0            -122.415929       96    Customer             1987.0          Male  \n",
              "1            -122.426614       88    Customer             1965.0        Female  \n",
              "2            -122.267764     1094    Customer                NaN           NaN  \n",
              "3            -122.408445     2831    Customer                NaN           NaN  \n",
              "4            -122.265896     3167  Subscriber             1997.0        Female  "
            ],
            "text/html": [
              "\n",
              "  <div id=\"df-a251a830-af2a-41a4-af0c-c7dde98f9e48\">\n",
              "    <div class=\"colab-df-container\">\n",
              "      <div>\n",
              "<style scoped>\n",
              "    .dataframe tbody tr th:only-of-type {\n",
              "        vertical-align: middle;\n",
              "    }\n",
              "\n",
              "    .dataframe tbody tr th {\n",
              "        vertical-align: top;\n",
              "    }\n",
              "\n",
              "    .dataframe thead th {\n",
              "        text-align: right;\n",
              "    }\n",
              "</style>\n",
              "<table border=\"1\" class=\"dataframe\">\n",
              "  <thead>\n",
              "    <tr style=\"text-align: right;\">\n",
              "      <th></th>\n",
              "      <th>duration_sec</th>\n",
              "      <th>start_time</th>\n",
              "      <th>end_time</th>\n",
              "      <th>start_station_id</th>\n",
              "      <th>start_station_name</th>\n",
              "      <th>start_station_latitude</th>\n",
              "      <th>start_station_longitude</th>\n",
              "      <th>end_station_id</th>\n",
              "      <th>end_station_name</th>\n",
              "      <th>end_station_latitude</th>\n",
              "      <th>end_station_longitude</th>\n",
              "      <th>bike_id</th>\n",
              "      <th>user_type</th>\n",
              "      <th>member_birth_year</th>\n",
              "      <th>member_gender</th>\n",
              "    </tr>\n",
              "  </thead>\n",
              "  <tbody>\n",
              "    <tr>\n",
              "      <th>0</th>\n",
              "      <td>80110</td>\n",
              "      <td>2017-12-31 16:57:39.6540</td>\n",
              "      <td>2018-01-01 15:12:50.2450</td>\n",
              "      <td>74</td>\n",
              "      <td>Laguna St at Hayes St</td>\n",
              "      <td>37.776435</td>\n",
              "      <td>-122.426244</td>\n",
              "      <td>43</td>\n",
              "      <td>San Francisco Public Library (Grove St at Hyde...</td>\n",
              "      <td>37.778768</td>\n",
              "      <td>-122.415929</td>\n",
              "      <td>96</td>\n",
              "      <td>Customer</td>\n",
              "      <td>1987.0</td>\n",
              "      <td>Male</td>\n",
              "    </tr>\n",
              "    <tr>\n",
              "      <th>1</th>\n",
              "      <td>78800</td>\n",
              "      <td>2017-12-31 15:56:34.8420</td>\n",
              "      <td>2018-01-01 13:49:55.6170</td>\n",
              "      <td>284</td>\n",
              "      <td>Yerba Buena Center for the Arts (Howard St at ...</td>\n",
              "      <td>37.784872</td>\n",
              "      <td>-122.400876</td>\n",
              "      <td>96</td>\n",
              "      <td>Dolores St at 15th St</td>\n",
              "      <td>37.766210</td>\n",
              "      <td>-122.426614</td>\n",
              "      <td>88</td>\n",
              "      <td>Customer</td>\n",
              "      <td>1965.0</td>\n",
              "      <td>Female</td>\n",
              "    </tr>\n",
              "    <tr>\n",
              "      <th>2</th>\n",
              "      <td>45768</td>\n",
              "      <td>2017-12-31 22:45:48.4110</td>\n",
              "      <td>2018-01-01 11:28:36.8830</td>\n",
              "      <td>245</td>\n",
              "      <td>Downtown Berkeley BART</td>\n",
              "      <td>37.870348</td>\n",
              "      <td>-122.267764</td>\n",
              "      <td>245</td>\n",
              "      <td>Downtown Berkeley BART</td>\n",
              "      <td>37.870348</td>\n",
              "      <td>-122.267764</td>\n",
              "      <td>1094</td>\n",
              "      <td>Customer</td>\n",
              "      <td>NaN</td>\n",
              "      <td>NaN</td>\n",
              "    </tr>\n",
              "    <tr>\n",
              "      <th>3</th>\n",
              "      <td>62172</td>\n",
              "      <td>2017-12-31 17:31:10.6360</td>\n",
              "      <td>2018-01-01 10:47:23.5310</td>\n",
              "      <td>60</td>\n",
              "      <td>8th St at Ringold St</td>\n",
              "      <td>37.774520</td>\n",
              "      <td>-122.409449</td>\n",
              "      <td>5</td>\n",
              "      <td>Powell St BART Station (Market St at 5th St)</td>\n",
              "      <td>37.783899</td>\n",
              "      <td>-122.408445</td>\n",
              "      <td>2831</td>\n",
              "      <td>Customer</td>\n",
              "      <td>NaN</td>\n",
              "      <td>NaN</td>\n",
              "    </tr>\n",
              "    <tr>\n",
              "      <th>4</th>\n",
              "      <td>43603</td>\n",
              "      <td>2017-12-31 14:23:14.0010</td>\n",
              "      <td>2018-01-01 02:29:57.5710</td>\n",
              "      <td>239</td>\n",
              "      <td>Bancroft Way at Telegraph Ave</td>\n",
              "      <td>37.868813</td>\n",
              "      <td>-122.258764</td>\n",
              "      <td>247</td>\n",
              "      <td>Fulton St at Bancroft Way</td>\n",
              "      <td>37.867789</td>\n",
              "      <td>-122.265896</td>\n",
              "      <td>3167</td>\n",
              "      <td>Subscriber</td>\n",
              "      <td>1997.0</td>\n",
              "      <td>Female</td>\n",
              "    </tr>\n",
              "  </tbody>\n",
              "</table>\n",
              "</div>\n",
              "      <button class=\"colab-df-convert\" onclick=\"convertToInteractive('df-a251a830-af2a-41a4-af0c-c7dde98f9e48')\"\n",
              "              title=\"Convert this dataframe to an interactive table.\"\n",
              "              style=\"display:none;\">\n",
              "        \n",
              "  <svg xmlns=\"http://www.w3.org/2000/svg\" height=\"24px\"viewBox=\"0 0 24 24\"\n",
              "       width=\"24px\">\n",
              "    <path d=\"M0 0h24v24H0V0z\" fill=\"none\"/>\n",
              "    <path d=\"M18.56 5.44l.94 2.06.94-2.06 2.06-.94-2.06-.94-.94-2.06-.94 2.06-2.06.94zm-11 1L8.5 8.5l.94-2.06 2.06-.94-2.06-.94L8.5 2.5l-.94 2.06-2.06.94zm10 10l.94 2.06.94-2.06 2.06-.94-2.06-.94-.94-2.06-.94 2.06-2.06.94z\"/><path d=\"M17.41 7.96l-1.37-1.37c-.4-.4-.92-.59-1.43-.59-.52 0-1.04.2-1.43.59L10.3 9.45l-7.72 7.72c-.78.78-.78 2.05 0 2.83L4 21.41c.39.39.9.59 1.41.59.51 0 1.02-.2 1.41-.59l7.78-7.78 2.81-2.81c.8-.78.8-2.07 0-2.86zM5.41 20L4 18.59l7.72-7.72 1.47 1.35L5.41 20z\"/>\n",
              "  </svg>\n",
              "      </button>\n",
              "      \n",
              "  <style>\n",
              "    .colab-df-container {\n",
              "      display:flex;\n",
              "      flex-wrap:wrap;\n",
              "      gap: 12px;\n",
              "    }\n",
              "\n",
              "    .colab-df-convert {\n",
              "      background-color: #E8F0FE;\n",
              "      border: none;\n",
              "      border-radius: 50%;\n",
              "      cursor: pointer;\n",
              "      display: none;\n",
              "      fill: #1967D2;\n",
              "      height: 32px;\n",
              "      padding: 0 0 0 0;\n",
              "      width: 32px;\n",
              "    }\n",
              "\n",
              "    .colab-df-convert:hover {\n",
              "      background-color: #E2EBFA;\n",
              "      box-shadow: 0px 1px 2px rgba(60, 64, 67, 0.3), 0px 1px 3px 1px rgba(60, 64, 67, 0.15);\n",
              "      fill: #174EA6;\n",
              "    }\n",
              "\n",
              "    [theme=dark] .colab-df-convert {\n",
              "      background-color: #3B4455;\n",
              "      fill: #D2E3FC;\n",
              "    }\n",
              "\n",
              "    [theme=dark] .colab-df-convert:hover {\n",
              "      background-color: #434B5C;\n",
              "      box-shadow: 0px 1px 3px 1px rgba(0, 0, 0, 0.15);\n",
              "      filter: drop-shadow(0px 1px 2px rgba(0, 0, 0, 0.3));\n",
              "      fill: #FFFFFF;\n",
              "    }\n",
              "  </style>\n",
              "\n",
              "      <script>\n",
              "        const buttonEl =\n",
              "          document.querySelector('#df-a251a830-af2a-41a4-af0c-c7dde98f9e48 button.colab-df-convert');\n",
              "        buttonEl.style.display =\n",
              "          google.colab.kernel.accessAllowed ? 'block' : 'none';\n",
              "\n",
              "        async function convertToInteractive(key) {\n",
              "          const element = document.querySelector('#df-a251a830-af2a-41a4-af0c-c7dde98f9e48');\n",
              "          const dataTable =\n",
              "            await google.colab.kernel.invokeFunction('convertToInteractive',\n",
              "                                                     [key], {});\n",
              "          if (!dataTable) return;\n",
              "\n",
              "          const docLinkHtml = 'Like what you see? Visit the ' +\n",
              "            '<a target=\"_blank\" href=https://colab.research.google.com/notebooks/data_table.ipynb>data table notebook</a>'\n",
              "            + ' to learn more about interactive tables.';\n",
              "          element.innerHTML = '';\n",
              "          dataTable['output_type'] = 'display_data';\n",
              "          await google.colab.output.renderOutput(dataTable, element);\n",
              "          const docLink = document.createElement('div');\n",
              "          docLink.innerHTML = docLinkHtml;\n",
              "          element.appendChild(docLink);\n",
              "        }\n",
              "      </script>\n",
              "    </div>\n",
              "  </div>\n",
              "  "
            ]
          },
          "metadata": {},
          "execution_count": 3
        }
      ]
    },
    {
      "cell_type": "code",
      "source": [
        "# high-level overview of data shape and composition\n",
        "ford_df.shape"
      ],
      "metadata": {
        "colab": {
          "base_uri": "https://localhost:8080/"
        },
        "id": "zMpbnJE55e2I",
        "outputId": "303d8004-1772-4b90-bd63-0a3a86460d1b"
      },
      "execution_count": null,
      "outputs": [
        {
          "output_type": "execute_result",
          "data": {
            "text/plain": [
              "(519700, 15)"
            ]
          },
          "metadata": {},
          "execution_count": 4
        }
      ]
    },
    {
      "cell_type": "code",
      "source": [
        "ford_df.info()"
      ],
      "metadata": {
        "colab": {
          "base_uri": "https://localhost:8080/"
        },
        "id": "XzMkVloZ5hj7",
        "outputId": "f8aacf6f-8a56-41e0-b175-9915092162f4"
      },
      "execution_count": null,
      "outputs": [
        {
          "output_type": "stream",
          "name": "stdout",
          "text": [
            "<class 'pandas.core.frame.DataFrame'>\n",
            "RangeIndex: 519700 entries, 0 to 519699\n",
            "Data columns (total 15 columns):\n",
            " #   Column                   Non-Null Count   Dtype  \n",
            "---  ------                   --------------   -----  \n",
            " 0   duration_sec             519700 non-null  int64  \n",
            " 1   start_time               519700 non-null  object \n",
            " 2   end_time                 519700 non-null  object \n",
            " 3   start_station_id         519700 non-null  int64  \n",
            " 4   start_station_name       519700 non-null  object \n",
            " 5   start_station_latitude   519700 non-null  float64\n",
            " 6   start_station_longitude  519700 non-null  float64\n",
            " 7   end_station_id           519700 non-null  int64  \n",
            " 8   end_station_name         519700 non-null  object \n",
            " 9   end_station_latitude     519700 non-null  float64\n",
            " 10  end_station_longitude    519700 non-null  float64\n",
            " 11  bike_id                  519700 non-null  int64  \n",
            " 12  user_type                519700 non-null  object \n",
            " 13  member_birth_year        453159 non-null  float64\n",
            " 14  member_gender            453238 non-null  object \n",
            "dtypes: float64(5), int64(4), object(6)\n",
            "memory usage: 59.5+ MB\n"
          ]
        }
      ]
    },
    {
      "cell_type": "code",
      "execution_count": null,
      "metadata": {
        "colab": {
          "base_uri": "https://localhost:8080/"
        },
        "id": "mlGzvOOrrWrB",
        "outputId": "05e512da-9889-4949-ffae-efc0630786e5"
      },
      "outputs": [
        {
          "output_type": "execute_result",
          "data": {
            "text/plain": [
              "0"
            ]
          },
          "metadata": {},
          "execution_count": 6
        }
      ],
      "source": [
        "#check for duplicated values\n",
        "ford_df.duplicated().sum()"
      ]
    },
    {
      "cell_type": "code",
      "source": [
        "#check for null values\n",
        "ford_df.isna().sum()"
      ],
      "metadata": {
        "colab": {
          "base_uri": "https://localhost:8080/"
        },
        "id": "Bei16-F-5oyU",
        "outputId": "844de087-5377-45f6-e672-e009f82cb967"
      },
      "execution_count": null,
      "outputs": [
        {
          "output_type": "execute_result",
          "data": {
            "text/plain": [
              "duration_sec                   0\n",
              "start_time                     0\n",
              "end_time                       0\n",
              "start_station_id               0\n",
              "start_station_name             0\n",
              "start_station_latitude         0\n",
              "start_station_longitude        0\n",
              "end_station_id                 0\n",
              "end_station_name               0\n",
              "end_station_latitude           0\n",
              "end_station_longitude          0\n",
              "bike_id                        0\n",
              "user_type                      0\n",
              "member_birth_year          66541\n",
              "member_gender              66462\n",
              "dtype: int64"
            ]
          },
          "metadata": {},
          "execution_count": 7
        }
      ]
    },
    {
      "cell_type": "markdown",
      "source": [
        "**Observations:**\n",
        "\n",
        "* Missing values in the dataset\n",
        "* Erreneous data types:\n",
        " start_time and end_time types are object instead of datetime type\n",
        "\n",
        "  - member_birth_year should be type of int\n",
        "  - start_station_id, end_station_id, and bike_id can be str type\n",
        "  - user_type and member_gender can be type of category\n",
        "* Unwanted columns"
      ],
      "metadata": {
        "id": "uBGhDz2d5umq"
      }
    },
    {
      "cell_type": "markdown",
      "source": [
        "# **Data Cleaning**"
      ],
      "metadata": {
        "id": "4sHoUIpB9NFt"
      }
    },
    {
      "cell_type": "code",
      "source": [
        "# Before cleaning, make copy of original datasets\n",
        "ford_clean = ford_df.copy()"
      ],
      "metadata": {
        "id": "any377PF9RDf"
      },
      "execution_count": null,
      "outputs": []
    },
    {
      "cell_type": "markdown",
      "source": [
        "**Issue 1: Missing values in the dataset**\n",
        "\n",
        "**Define** Drop the null values from the dataset"
      ],
      "metadata": {
        "id": "P0VyP2gh9T8T"
      }
    },
    {
      "cell_type": "code",
      "source": [
        "#drop the null values from dataset\n",
        "ford_clean.dropna(how = 'any', axis = 0, inplace=True)"
      ],
      "metadata": {
        "id": "v_fCroAt9XPK"
      },
      "execution_count": null,
      "outputs": []
    },
    {
      "cell_type": "markdown",
      "source": [
        "**Test**"
      ],
      "metadata": {
        "id": "mirYQyCU9bvp"
      }
    },
    {
      "cell_type": "code",
      "source": [
        "# check whether null values are dropped\n",
        "ford_clean.isna().sum()"
      ],
      "metadata": {
        "colab": {
          "base_uri": "https://localhost:8080/"
        },
        "id": "EB9PMaaF9cbU",
        "outputId": "642d3412-d4d9-4f01-e3f4-b87b24292b5a"
      },
      "execution_count": null,
      "outputs": [
        {
          "output_type": "execute_result",
          "data": {
            "text/plain": [
              "duration_sec               0\n",
              "start_time                 0\n",
              "end_time                   0\n",
              "start_station_id           0\n",
              "start_station_name         0\n",
              "start_station_latitude     0\n",
              "start_station_longitude    0\n",
              "end_station_id             0\n",
              "end_station_name           0\n",
              "end_station_latitude       0\n",
              "end_station_longitude      0\n",
              "bike_id                    0\n",
              "user_type                  0\n",
              "member_birth_year          0\n",
              "member_gender              0\n",
              "dtype: int64"
            ]
          },
          "metadata": {},
          "execution_count": 10
        }
      ]
    },
    {
      "cell_type": "markdown",
      "source": [
        "**Issue 2: Erreneous data types**\n",
        "\n",
        "**Define** \n",
        "\n",
        "* convert start_time and end_time types from object to datetime\n",
        "* convert member_birth_year type from float to int\n",
        "* convert start_station_id, end_station_id, and bike_id to str type\n",
        "* convert user_type and member_gender to type of category"
      ],
      "metadata": {
        "id": "qI9zYcKh9hLv"
      }
    },
    {
      "cell_type": "code",
      "source": [
        "# convert the data type of start_time and end_time to datetime.\n",
        "ford_clean.start_time = pd.to_datetime(ford_clean.start_time)\n",
        "ford_clean.end_time = pd.to_datetime(ford_clean.end_time)\n",
        "\n",
        "# convert member_birth_year from float64 to int\n",
        "ford_clean.member_birth_year = ford_clean.member_birth_year.astype(int)\n",
        "\n",
        "# convert ids from object to str\n",
        "ford_clean.start_station_id = ford_clean.start_station_id.astype(str)\n",
        "ford_clean.end_station_id = ford_clean.end_station_id.astype(str)\n",
        "ford_clean.bike_id = ford_clean.bike_id.astype(str)\n",
        "\n",
        "\n",
        "# convert user_type and member_gender datatype into category\n",
        "ford_clean.user_type = ford_clean.user_type.astype('category')\n",
        "ford_clean.member_gender = ford_clean.member_gender.astype('category')"
      ],
      "metadata": {
        "id": "73S4MDUC-Cyn"
      },
      "execution_count": null,
      "outputs": []
    },
    {
      "cell_type": "markdown",
      "source": [
        "**Test**"
      ],
      "metadata": {
        "id": "8QFNZQvn-Due"
      }
    },
    {
      "cell_type": "code",
      "source": [
        "# check whether data type are converted correctly\n",
        "ford_clean.info()"
      ],
      "metadata": {
        "colab": {
          "base_uri": "https://localhost:8080/"
        },
        "id": "Db7eXYGO-FoV",
        "outputId": "7e72b3e4-9c42-435c-84b2-43de0b055843"
      },
      "execution_count": null,
      "outputs": [
        {
          "output_type": "stream",
          "name": "stdout",
          "text": [
            "<class 'pandas.core.frame.DataFrame'>\n",
            "Int64Index: 453159 entries, 0 to 519699\n",
            "Data columns (total 15 columns):\n",
            " #   Column                   Non-Null Count   Dtype         \n",
            "---  ------                   --------------   -----         \n",
            " 0   duration_sec             453159 non-null  int64         \n",
            " 1   start_time               453159 non-null  datetime64[ns]\n",
            " 2   end_time                 453159 non-null  datetime64[ns]\n",
            " 3   start_station_id         453159 non-null  object        \n",
            " 4   start_station_name       453159 non-null  object        \n",
            " 5   start_station_latitude   453159 non-null  float64       \n",
            " 6   start_station_longitude  453159 non-null  float64       \n",
            " 7   end_station_id           453159 non-null  object        \n",
            " 8   end_station_name         453159 non-null  object        \n",
            " 9   end_station_latitude     453159 non-null  float64       \n",
            " 10  end_station_longitude    453159 non-null  float64       \n",
            " 11  bike_id                  453159 non-null  object        \n",
            " 12  user_type                453159 non-null  category      \n",
            " 13  member_birth_year        453159 non-null  int64         \n",
            " 14  member_gender            453159 non-null  category      \n",
            "dtypes: category(2), datetime64[ns](2), float64(4), int64(2), object(5)\n",
            "memory usage: 49.3+ MB\n"
          ]
        }
      ]
    },
    {
      "cell_type": "markdown",
      "source": [
        "**Issue 3: Unwanted Columns**\n",
        "\n",
        "**Define** Drop the unused columns using dropna() method"
      ],
      "metadata": {
        "id": "eURI8OSW-Ndl"
      }
    },
    {
      "cell_type": "code",
      "source": [
        "# drop the unused columns\n",
        "ford_clean.drop(['start_station_latitude','start_station_longitude','end_station_latitude','end_station_longitude'], axis = 1 , inplace = True)"
      ],
      "metadata": {
        "id": "rQm4fEBB-QNn"
      },
      "execution_count": null,
      "outputs": []
    },
    {
      "cell_type": "markdown",
      "source": [
        "**Test**"
      ],
      "metadata": {
        "id": "WgAG8BNY-SuT"
      }
    },
    {
      "cell_type": "code",
      "source": [
        "# check whether columns are dropped\n",
        "ford_clean.columns"
      ],
      "metadata": {
        "colab": {
          "base_uri": "https://localhost:8080/"
        },
        "id": "k0YP5Tss-ZRg",
        "outputId": "5254a0c7-6c20-4a1f-dad2-fa458fe31e80"
      },
      "execution_count": null,
      "outputs": [
        {
          "output_type": "execute_result",
          "data": {
            "text/plain": [
              "Index(['duration_sec', 'start_time', 'end_time', 'start_station_id',\n",
              "       'start_station_name', 'end_station_id', 'end_station_name', 'bike_id',\n",
              "       'user_type', 'member_birth_year', 'member_gender'],\n",
              "      dtype='object')"
            ]
          },
          "metadata": {},
          "execution_count": 14
        }
      ]
    },
    {
      "cell_type": "markdown",
      "source": [
        "**Feature Engineering**\n",
        "\n",
        "To make the analysis easy, lets fetch time of day, day of the week, or month of the year from start_time\n",
        "\n",
        "\n"
      ],
      "metadata": {
        "id": "J0cmDHNF-fOg"
      }
    },
    {
      "cell_type": "code",
      "source": [
        "# use strftime() method to scrap the time data\n",
        "ford_clean['start_day'] = ford_clean['start_time'].apply(lambda x: x.strftime('%A')).astype('category')\n",
        "ford_clean['start_month'] = ford_clean['start_time'].apply(lambda x: x.strftime('%b')).astype('category')\n",
        "ford_clean['start_hour'] = ford_clean['start_time'].apply(lambda x: x.strftime('%H')).astype(int)\n",
        "\n",
        "# Lets calcluate the member age from the birthyear\n",
        "ford_clean['member_age'] = 2017 - ford_clean['member_birth_year']"
      ],
      "metadata": {
        "id": "XFP0bKju-d4V"
      },
      "execution_count": null,
      "outputs": []
    },
    {
      "cell_type": "code",
      "source": [
        "# Brief summary of cleaned DataFrame\n",
        "ford_clean.info()"
      ],
      "metadata": {
        "colab": {
          "base_uri": "https://localhost:8080/"
        },
        "id": "7ALQ_YotCHcN",
        "outputId": "a3080d78-576b-4fe4-ac2b-e28bdbf4e236"
      },
      "execution_count": null,
      "outputs": [
        {
          "output_type": "stream",
          "name": "stdout",
          "text": [
            "<class 'pandas.core.frame.DataFrame'>\n",
            "Int64Index: 453159 entries, 0 to 519699\n",
            "Data columns (total 15 columns):\n",
            " #   Column              Non-Null Count   Dtype         \n",
            "---  ------              --------------   -----         \n",
            " 0   duration_sec        453159 non-null  int64         \n",
            " 1   start_time          453159 non-null  datetime64[ns]\n",
            " 2   end_time            453159 non-null  datetime64[ns]\n",
            " 3   start_station_id    453159 non-null  object        \n",
            " 4   start_station_name  453159 non-null  object        \n",
            " 5   end_station_id      453159 non-null  object        \n",
            " 6   end_station_name    453159 non-null  object        \n",
            " 7   bike_id             453159 non-null  object        \n",
            " 8   user_type           453159 non-null  category      \n",
            " 9   member_birth_year   453159 non-null  int64         \n",
            " 10  member_gender       453159 non-null  category      \n",
            " 11  start_day           453159 non-null  category      \n",
            " 12  start_month         453159 non-null  category      \n",
            " 13  start_hour          453159 non-null  int64         \n",
            " 14  member_age          453159 non-null  int64         \n",
            "dtypes: category(4), datetime64[ns](2), int64(4), object(5)\n",
            "memory usage: 43.2+ MB\n"
          ]
        }
      ]
    },
    {
      "cell_type": "markdown",
      "source": [
        "**Storing cleaned Dataset :**"
      ],
      "metadata": {
        "id": "vADozRk1CZJa"
      }
    },
    {
      "cell_type": "code",
      "source": [
        "ford_clean.to_csv('cleaned-fordgobike-tripdata-2017.csv', encoding='utf-8', index=False)"
      ],
      "metadata": {
        "id": "ceyIi_jlCZ1N"
      },
      "execution_count": null,
      "outputs": []
    },
    {
      "cell_type": "code",
      "source": [
        "# Read data from csv file and Load it into dataframe\n",
        "df = pd.read_csv('cleaned-fordgobike-tripdata-2017.csv')\n",
        "df.sample(2)"
      ],
      "metadata": {
        "colab": {
          "base_uri": "https://localhost:8080/",
          "height": 211
        },
        "id": "z9EXmdywCgUK",
        "outputId": "9c32cd18-e864-437c-9a46-ac0400c950ae"
      },
      "execution_count": null,
      "outputs": [
        {
          "output_type": "execute_result",
          "data": {
            "text/plain": [
              "        duration_sec               start_time                 end_time  \\\n",
              "89777            465  2017-11-28 08:01:31.757  2017-11-28 08:09:17.044   \n",
              "429196          1581  2017-07-22 11:35:33.132  2017-07-22 12:01:54.136   \n",
              "\n",
              "        start_station_id  start_station_name  end_station_id  \\\n",
              "89777                323  Broadway at Kearny              23   \n",
              "429196                81  Berry St at 4th St              28   \n",
              "\n",
              "                     end_station_name  bike_id   user_type  member_birth_year  \\\n",
              "89777   The Embarcadero at Steuart St     2218  Subscriber               1977   \n",
              "429196   The Embarcadero at Bryant St     2028  Subscriber               1987   \n",
              "\n",
              "       member_gender start_day start_month  start_hour  member_age  \n",
              "89777           Male   Tuesday         Nov           8          40  \n",
              "429196          Male  Saturday         Jul          11          30  "
            ],
            "text/html": [
              "\n",
              "  <div id=\"df-27ccf9f8-2235-4d1f-8939-164d4199f226\">\n",
              "    <div class=\"colab-df-container\">\n",
              "      <div>\n",
              "<style scoped>\n",
              "    .dataframe tbody tr th:only-of-type {\n",
              "        vertical-align: middle;\n",
              "    }\n",
              "\n",
              "    .dataframe tbody tr th {\n",
              "        vertical-align: top;\n",
              "    }\n",
              "\n",
              "    .dataframe thead th {\n",
              "        text-align: right;\n",
              "    }\n",
              "</style>\n",
              "<table border=\"1\" class=\"dataframe\">\n",
              "  <thead>\n",
              "    <tr style=\"text-align: right;\">\n",
              "      <th></th>\n",
              "      <th>duration_sec</th>\n",
              "      <th>start_time</th>\n",
              "      <th>end_time</th>\n",
              "      <th>start_station_id</th>\n",
              "      <th>start_station_name</th>\n",
              "      <th>end_station_id</th>\n",
              "      <th>end_station_name</th>\n",
              "      <th>bike_id</th>\n",
              "      <th>user_type</th>\n",
              "      <th>member_birth_year</th>\n",
              "      <th>member_gender</th>\n",
              "      <th>start_day</th>\n",
              "      <th>start_month</th>\n",
              "      <th>start_hour</th>\n",
              "      <th>member_age</th>\n",
              "    </tr>\n",
              "  </thead>\n",
              "  <tbody>\n",
              "    <tr>\n",
              "      <th>89777</th>\n",
              "      <td>465</td>\n",
              "      <td>2017-11-28 08:01:31.757</td>\n",
              "      <td>2017-11-28 08:09:17.044</td>\n",
              "      <td>323</td>\n",
              "      <td>Broadway at Kearny</td>\n",
              "      <td>23</td>\n",
              "      <td>The Embarcadero at Steuart St</td>\n",
              "      <td>2218</td>\n",
              "      <td>Subscriber</td>\n",
              "      <td>1977</td>\n",
              "      <td>Male</td>\n",
              "      <td>Tuesday</td>\n",
              "      <td>Nov</td>\n",
              "      <td>8</td>\n",
              "      <td>40</td>\n",
              "    </tr>\n",
              "    <tr>\n",
              "      <th>429196</th>\n",
              "      <td>1581</td>\n",
              "      <td>2017-07-22 11:35:33.132</td>\n",
              "      <td>2017-07-22 12:01:54.136</td>\n",
              "      <td>81</td>\n",
              "      <td>Berry St at 4th St</td>\n",
              "      <td>28</td>\n",
              "      <td>The Embarcadero at Bryant St</td>\n",
              "      <td>2028</td>\n",
              "      <td>Subscriber</td>\n",
              "      <td>1987</td>\n",
              "      <td>Male</td>\n",
              "      <td>Saturday</td>\n",
              "      <td>Jul</td>\n",
              "      <td>11</td>\n",
              "      <td>30</td>\n",
              "    </tr>\n",
              "  </tbody>\n",
              "</table>\n",
              "</div>\n",
              "      <button class=\"colab-df-convert\" onclick=\"convertToInteractive('df-27ccf9f8-2235-4d1f-8939-164d4199f226')\"\n",
              "              title=\"Convert this dataframe to an interactive table.\"\n",
              "              style=\"display:none;\">\n",
              "        \n",
              "  <svg xmlns=\"http://www.w3.org/2000/svg\" height=\"24px\"viewBox=\"0 0 24 24\"\n",
              "       width=\"24px\">\n",
              "    <path d=\"M0 0h24v24H0V0z\" fill=\"none\"/>\n",
              "    <path d=\"M18.56 5.44l.94 2.06.94-2.06 2.06-.94-2.06-.94-.94-2.06-.94 2.06-2.06.94zm-11 1L8.5 8.5l.94-2.06 2.06-.94-2.06-.94L8.5 2.5l-.94 2.06-2.06.94zm10 10l.94 2.06.94-2.06 2.06-.94-2.06-.94-.94-2.06-.94 2.06-2.06.94z\"/><path d=\"M17.41 7.96l-1.37-1.37c-.4-.4-.92-.59-1.43-.59-.52 0-1.04.2-1.43.59L10.3 9.45l-7.72 7.72c-.78.78-.78 2.05 0 2.83L4 21.41c.39.39.9.59 1.41.59.51 0 1.02-.2 1.41-.59l7.78-7.78 2.81-2.81c.8-.78.8-2.07 0-2.86zM5.41 20L4 18.59l7.72-7.72 1.47 1.35L5.41 20z\"/>\n",
              "  </svg>\n",
              "      </button>\n",
              "      \n",
              "  <style>\n",
              "    .colab-df-container {\n",
              "      display:flex;\n",
              "      flex-wrap:wrap;\n",
              "      gap: 12px;\n",
              "    }\n",
              "\n",
              "    .colab-df-convert {\n",
              "      background-color: #E8F0FE;\n",
              "      border: none;\n",
              "      border-radius: 50%;\n",
              "      cursor: pointer;\n",
              "      display: none;\n",
              "      fill: #1967D2;\n",
              "      height: 32px;\n",
              "      padding: 0 0 0 0;\n",
              "      width: 32px;\n",
              "    }\n",
              "\n",
              "    .colab-df-convert:hover {\n",
              "      background-color: #E2EBFA;\n",
              "      box-shadow: 0px 1px 2px rgba(60, 64, 67, 0.3), 0px 1px 3px 1px rgba(60, 64, 67, 0.15);\n",
              "      fill: #174EA6;\n",
              "    }\n",
              "\n",
              "    [theme=dark] .colab-df-convert {\n",
              "      background-color: #3B4455;\n",
              "      fill: #D2E3FC;\n",
              "    }\n",
              "\n",
              "    [theme=dark] .colab-df-convert:hover {\n",
              "      background-color: #434B5C;\n",
              "      box-shadow: 0px 1px 3px 1px rgba(0, 0, 0, 0.15);\n",
              "      filter: drop-shadow(0px 1px 2px rgba(0, 0, 0, 0.3));\n",
              "      fill: #FFFFFF;\n",
              "    }\n",
              "  </style>\n",
              "\n",
              "      <script>\n",
              "        const buttonEl =\n",
              "          document.querySelector('#df-27ccf9f8-2235-4d1f-8939-164d4199f226 button.colab-df-convert');\n",
              "        buttonEl.style.display =\n",
              "          google.colab.kernel.accessAllowed ? 'block' : 'none';\n",
              "\n",
              "        async function convertToInteractive(key) {\n",
              "          const element = document.querySelector('#df-27ccf9f8-2235-4d1f-8939-164d4199f226');\n",
              "          const dataTable =\n",
              "            await google.colab.kernel.invokeFunction('convertToInteractive',\n",
              "                                                     [key], {});\n",
              "          if (!dataTable) return;\n",
              "\n",
              "          const docLinkHtml = 'Like what you see? Visit the ' +\n",
              "            '<a target=\"_blank\" href=https://colab.research.google.com/notebooks/data_table.ipynb>data table notebook</a>'\n",
              "            + ' to learn more about interactive tables.';\n",
              "          element.innerHTML = '';\n",
              "          dataTable['output_type'] = 'display_data';\n",
              "          await google.colab.output.renderOutput(dataTable, element);\n",
              "          const docLink = document.createElement('div');\n",
              "          docLink.innerHTML = docLinkHtml;\n",
              "          element.appendChild(docLink);\n",
              "        }\n",
              "      </script>\n",
              "    </div>\n",
              "  </div>\n",
              "  "
            ]
          },
          "metadata": {},
          "execution_count": 19
        }
      ]
    },
    {
      "cell_type": "markdown",
      "source": [
        "# **Data Exploration**"
      ],
      "metadata": {
        "id": "rMtGm8WQCqvJ"
      }
    },
    {
      "cell_type": "markdown",
      "source": [
        "**What is the structure of your dataset?**\n",
        "\n",
        "\n",
        "\n",
        "> The dataset consists of 453159 bike ride entries and 15 features"
      ],
      "metadata": {
        "id": "kjENQ93lCuYL"
      }
    },
    {
      "cell_type": "markdown",
      "source": [
        "**What is/are the main feature(s) of interest in your dataset?**\n",
        "\n",
        "\n",
        "\n",
        "> * Most interested features in this dataset are bike ride start_time (in terms of month of the year, day of the week, or hour of the day) and ride duration. Does it depends on characteristics of the riders?\n",
        "\n"
      ],
      "metadata": {
        "id": "N_UbyvERDIbD"
      }
    },
    {
      "cell_type": "markdown",
      "source": [
        "**What features in the dataset do you think will help support your investigation into your feature(s) of interest?**\n",
        "\n",
        "\n",
        "\n",
        "> I expect time_characteristics and duration_sec highly depends on below characteristics of the riders,\n",
        "\n",
        "* *user_type*\n",
        "* *member_gender*\n",
        "* *member_age*\n",
        "\n"
      ],
      "metadata": {
        "id": "fnre2ptWDQ2G"
      }
    },
    {
      "cell_type": "markdown",
      "source": [
        "# **Univariate Exploration**"
      ],
      "metadata": {
        "id": "KncuTxw4Db2S"
      }
    },
    {
      "cell_type": "code",
      "source": [
        "# set the default color\n",
        "default_color = sb.color_palette()[0]"
      ],
      "metadata": {
        "id": "ei3qmhlyCk-e"
      },
      "execution_count": null,
      "outputs": []
    },
    {
      "cell_type": "markdown",
      "source": [
        "**Distribution of Day, Month and Hour of start time**"
      ],
      "metadata": {
        "id": "jLBlXJtPpzOA"
      }
    },
    {
      "cell_type": "code",
      "source": [
        "# set subplots\n",
        "fig, ax = plt.subplots(nrows=3, figsize = [8,12])\n",
        "\n",
        "# time characteristic order\n",
        "day_order = ['Monday','Tuesday', 'Wednesday', 'Thursday', 'Friday', 'Saturday', 'Sunday']\n",
        "month_order = ['Jun', 'Jul', 'Aug', 'Sep', 'Oct', 'Nov', 'Dec']\n",
        "hour_order = np.arange(0,24)\n",
        "\n",
        "# plot the Day, Month and Hour\n",
        "sb.countplot(data = df, x = 'start_day', color = default_color, ax = ax[0], order = day_order, label = 'data')\n",
        "sb.countplot(data = df, x = 'start_month', color = default_color, ax = ax[1], order = month_order)\n",
        "sb.countplot(data = df, x = 'start_hour', color = default_color, ax = ax[2], order = hour_order);\n",
        "\n",
        "# title and labels\n",
        "fig.suptitle('Distribution of Day, Month and Hour');\n",
        "\n",
        "for a in ax:\n",
        "    a.set_ylabel('Rides Frequency')\n",
        "    \n",
        "ax[0].set_xlabel('Day of the week')\n",
        "ax[1].set_xlabel('Month of the year')\n",
        "ax[2].set_xlabel('Hour of the day')\n",
        "\n",
        "fig.tight_layout();"
      ],
      "metadata": {
        "id": "Ni4wS5QApz8p"
      },
      "execution_count": null,
      "outputs": []
    },
    {
      "cell_type": "markdown",
      "source": [
        "* **Weekdays has higher** ride counts rather **than weekend**. Especially ride count for mid three days of the week (Tue, Wed, Thurs) ranges between 75k and 80k. It makes sense that because of the working schedule.\n",
        "* More number of rides commuted in **October** month. **July **ride counts are very low, it might because of the launch of the program.\n",
        "* Peak hours are **8-9 AM** and **4-6 PM**. This is the common commuting time."
      ],
      "metadata": {
        "id": "0frHqFYzp4xc"
      }
    },
    {
      "cell_type": "markdown",
      "source": [
        "**Distribution of user_type and member_gender**"
      ],
      "metadata": {
        "id": "7GS7Tmw4qSp2"
      }
    },
    {
      "cell_type": "code",
      "source": [
        "fig, ax = plt.subplots(nrows=2, figsize = [6,8])\n",
        "\n",
        "sb.countplot(data = df, x = 'user_type', color = default_color, ax = ax[0])\n",
        "sb.countplot(data = df, x = 'member_gender', color = default_color, ax = ax[1]);\n",
        "\n",
        "# title and labels\n",
        "for a in ax:\n",
        "    a.set_ylabel('Rides Frequency')\n",
        "    \n",
        "ax[0].set_xlabel('User Type')\n",
        "ax[0].set_title('Distribution of User Type')\n",
        "ax[1].set_xlabel('Riders Gender')\n",
        "ax[1].set_title('Distribution of Riders Gender')\n",
        "fig.tight_layout();"
      ],
      "metadata": {
        "id": "od4g0ot0qTc2"
      },
      "execution_count": null,
      "outputs": []
    },
    {
      "cell_type": "markdown",
      "source": [
        "* **Subcribers** have done more number of rides rather than **Customers**. As subscribed member ride price is less than casual customers, this might be the reason for more number of rides. Refer Bay_Wheels_wikipedia.\n",
        "* **Male riders** counts are three times more than the **Female riders**. Other gender type is verly less when compared to other genders"
      ],
      "metadata": {
        "id": "8CnGhEDCqXbK"
      }
    },
    {
      "cell_type": "markdown",
      "source": [
        "**Distribution of Ride duration**"
      ],
      "metadata": {
        "id": "Lz73tjNYqi5l"
      }
    },
    {
      "cell_type": "code",
      "source": [
        "plt.figure(figsize=(10,6))\n",
        "\n",
        "# set bins\n",
        "bins = np.arange(0, df.duration_sec.max()+100, 100)\n",
        "\n",
        "# plot the distribution\n",
        "plt.hist(data = df, x = 'duration_sec', bins = bins)\n",
        "\n",
        "# set limits to make the appropriate plot\n",
        "plt.xlim(0,3000);\n",
        "\n",
        "# title and labels\n",
        "plt.title('Distribution of Ride duration')\n",
        "plt.xlabel('Duration in seconds')\n",
        "plt.ylabel('Rides Frequency');"
      ],
      "metadata": {
        "id": "yxupVL8UqkQw"
      },
      "execution_count": null,
      "outputs": []
    },
    {
      "cell_type": "markdown",
      "source": [
        "* Distribution of ride duration has long tail and right skewed. Let's do the scale tranformation."
      ],
      "metadata": {
        "id": "Xs-B4MYGqqhV"
      }
    },
    {
      "cell_type": "code",
      "source": [
        "# Log tranformation description of ride duartion\n",
        "np.log10(df.duration_sec.describe())"
      ],
      "metadata": {
        "id": "xv3v-JqEqvx5"
      },
      "execution_count": null,
      "outputs": []
    },
    {
      "cell_type": "code",
      "source": [
        "# set bins\n",
        "bins = 10 ** np.arange(1.5, np.log10(df.duration_sec.max())+0.05, 0.05)\n",
        "\n",
        "# plot the distribution\n",
        "plt.figure(figsize=(10,6))\n",
        "plt.hist(data = df, x = 'duration_sec', bins = bins)\n",
        "\n",
        "# log scale transformation\n",
        "plt.xscale('log')\n",
        "\n",
        "# set title, lbels and ticks\n",
        "plt.xticks([50,100,250,500, 1e3, 2e3, 5e3, 1e4, 2e4], [50,100,250,500, '1k', '2k', '5k', '10k', '20k'])\n",
        "plt.title('Log scale Distribution of Ride duration')\n",
        "plt.xlabel('Duration in seconds')\n",
        "plt.ylabel('Rides Frequency');"
      ],
      "metadata": {
        "id": "TiQ6jOmmqyg1"
      },
      "execution_count": null,
      "outputs": []
    },
    {
      "cell_type": "markdown",
      "source": [
        "* After log scale tranformation, distribution of ride duration **looks unimodal and normally distributed**. Peak trip duration falls in **the range 300 - 1000 seconds**.\n"
      ],
      "metadata": {
        "id": "YU-x0ow-q1BL"
      }
    },
    {
      "cell_type": "markdown",
      "source": [
        "**Distribution of Riders Age**"
      ],
      "metadata": {
        "id": "Kv_7TOLLq-vF"
      }
    },
    {
      "cell_type": "code",
      "source": [
        "# plot the distribution\n",
        "sb.boxplot(data = df, x='member_age')\n",
        "\n",
        "# set title\n",
        "plt.title('Distribution of Riders Age')\n",
        "plt.xlabel('Riders Age (years)');"
      ],
      "metadata": {
        "id": "z2A1nNRaq_a0"
      },
      "execution_count": null,
      "outputs": []
    },
    {
      "cell_type": "code",
      "source": [
        "df.member_birth_year.describe()"
      ],
      "metadata": {
        "id": "JzudLbcarDIV"
      },
      "execution_count": null,
      "outputs": []
    },
    {
      "cell_type": "markdown",
      "source": [
        "* We could see that age has more number of outliers as ages are greater than 100 which is exceptional where the bike riders birth year below 1917. So, Let's consider members whose **age is below 60**"
      ],
      "metadata": {
        "id": "d_bqj4E3rFPO"
      }
    },
    {
      "cell_type": "code",
      "source": [
        "# Remove the outliers where age greater than 60\n",
        "df = df[df.member_age <= 60]"
      ],
      "metadata": {
        "id": "EfEL9ltArLwv"
      },
      "execution_count": null,
      "outputs": []
    },
    {
      "cell_type": "code",
      "source": [
        "# plot the distribution\n",
        "plt.hist(data = df, x = 'member_age')\n",
        "\n",
        "# set title\n",
        "plt.title('Distribution of Riders Age')\n",
        "plt.xlabel('Riders Age (years)')\n",
        "plt.ylabel('Ride Frequency');"
      ],
      "metadata": {
        "id": "KhYzlR9XrOAm"
      },
      "execution_count": null,
      "outputs": []
    },
    {
      "cell_type": "markdown",
      "source": [
        "* Most of riders age lies **between 29 - 42 age range** which indicates riders age infulences the ride frequency. Older age riders commuting less."
      ],
      "metadata": {
        "id": "j5oMJeAorRZX"
      }
    },
    {
      "cell_type": "markdown",
      "source": [
        "**Busy ride start stations**"
      ],
      "metadata": {
        "id": "dkylRiQgrWrS"
      }
    },
    {
      "cell_type": "code",
      "source": [
        "plt.figure(figsize=(8,6))\n",
        "\n",
        "# Top 10 peak start stations\n",
        "counts_start = df.start_station_name.value_counts().nlargest(10)\n",
        "\n",
        "# slice top 10 data\n",
        "station_start = df.loc[df.start_station_name.isin(counts_start.index)]\n",
        "\n",
        "# plot the stations\n",
        "sb.countplot(data = station_start, y = 'start_station_name', color = default_color, order = counts_start.index);\n",
        "plt.title('Top 10 Busy start stations')\n",
        "plt.xlabel('Ride Counts')\n",
        "plt.ylabel('Start Stations');"
      ],
      "metadata": {
        "id": "GIlvXWSNrrmP"
      },
      "execution_count": null,
      "outputs": []
    },
    {
      "cell_type": "markdown",
      "source": [
        "* Most commuted start stations are **San Francisco Caltrain (Townsend St at 4th St), San Francisco Caltrain Station 2 (Townsend St at 4th St) and San Francisco Ferry Building (Harry Bridges Plaza)**"
      ],
      "metadata": {
        "id": "rTeCKahErxOu"
      }
    },
    {
      "cell_type": "code",
      "source": [
        "plt.figure(figsize=(8,6))\n",
        "\n",
        "# Top 10 peak end stations\n",
        "counts_end = df.end_station_name.value_counts().nlargest(10) \n",
        "\n",
        "# slice top 10 data\n",
        "station_end = df.loc[df.end_station_name.isin(counts_end.index)]\n",
        "\n",
        "# plot the stations\n",
        "sb.countplot(data = station_end, y = 'end_station_name', color = default_color, order = counts_end.index)\n",
        "\n",
        "# set title and label\n",
        "plt.title('Top 10 Busy end stations')\n",
        "plt.xlabel('Ride Counts')\n",
        "plt.ylabel('End Stations');"
      ],
      "metadata": {
        "id": "CCBSwS-DsCey"
      },
      "execution_count": null,
      "outputs": []
    },
    {
      "cell_type": "markdown",
      "source": [
        "* Most commuted end stations are **San Francisco Caltrain (Townsend St at 4th St), San Francisco Ferry Building (Harry Bridges Plaza) and San Francisco Caltrain Station 2 (Townsend St at 4th St)**"
      ],
      "metadata": {
        "id": "tH1Yz9VusX-o"
      }
    },
    {
      "cell_type": "markdown",
      "source": [
        "**Discuss the distribution(s) of your variable(s) of interest. Were there any unusual points? Did you need to perform any transformations?**"
      ],
      "metadata": {
        "id": "90xOegg3sfzL"
      }
    },
    {
      "cell_type": "markdown",
      "source": [
        "* As per the univariate exploration, **higher rides are commuted during 8-9 AM and 4-6 PM** , **weekdays and October month**. **Riders who are subscribed, male gender and age range between 29-42 has did more number of rides**.\n",
        "* Actual Ride duration has **long tail right skewed distribution**. For better undersatnding, **performed log scale transformation on duartion_sec**. From the scale distribution its evident that ride duration is **normaly distributed unimodel**."
      ],
      "metadata": {
        "id": "GHwqdc-4siKz"
      }
    },
    {
      "cell_type": "markdown",
      "source": [
        "**Of the features you investigated, were there any unusual distributions? Did you perform any operations on the data to tidy, adjust, or change the form of the data? If so, why did you do this?**"
      ],
      "metadata": {
        "id": "XhwIrW2hs3fJ"
      }
    },
    {
      "cell_type": "markdown",
      "source": [
        "* Most of the data quality and tidiness issues were cleaned in the data cleaning phase.\n",
        "* Distribution of riders age had unsual distributions which contains more number of outliers. As, we chose 2017 dataset, member age contains ages more than 100 which is exceptional. To avoid this, I have ignored the age range above 60.\n",
        "* San Francisco Caltrain (Townsend St at 4th St) is the most commuted start station as well as the end station"
      ],
      "metadata": {
        "id": "zB6kz8sLs4Z7"
      }
    },
    {
      "cell_type": "markdown",
      "source": [
        "# **Bivariate Exploration**"
      ],
      "metadata": {
        "id": "iP-Fz-IBtAHn"
      }
    },
    {
      "cell_type": "markdown",
      "source": [
        "**Relationship between time characteristics and user type**"
      ],
      "metadata": {
        "id": "fx9_IqpqtCnB"
      }
    },
    {
      "cell_type": "code",
      "source": [
        "# set subplots\n",
        "fig, ax = plt.subplots(nrows=3, figsize = [8,12])\n",
        "\n",
        "# plot the relationship\n",
        "sb.countplot(data = df, x = 'start_day', hue = 'user_type', ax = ax[0], order = day_order, palette = 'Blues')\n",
        "sb.countplot(data = df, x = 'start_month', hue = 'user_type', ax = ax[1], order = month_order, palette = 'Greens')\n",
        "sb.countplot(data = df, x = 'start_hour', hue = 'user_type', ax = ax[2], order = hour_order, palette = 'Blues');\n",
        "\n",
        "# title and labels\n",
        "for a in ax:\n",
        "    a.set_ylabel('Rides Frequency')\n",
        "    \n",
        "ax[0].set_xlabel('Day of the week')\n",
        "ax[0].set_title('Relationship between Day of the week and User Type')\n",
        "ax[1].set_xlabel('Month of the year')\n",
        "ax[1].set_title('Relationship between Month of the year and User Type')\n",
        "ax[2].set_xlabel('Hour of the day')\n",
        "ax[2].set_title('Relationship between Hour of the day and User Type')\n",
        "\n",
        "fig.tight_layout();"
      ],
      "metadata": {
        "id": "yWflpdBxtEqr"
      },
      "execution_count": null,
      "outputs": []
    },
    {
      "cell_type": "markdown",
      "source": [
        "* Subscribed member riders are making more number of rides in weekdays.\n",
        "* In winter season, subscribed member riders are making more number of rides.\n",
        "* Subscribed member riders are making more number of rides during peak hours 8-9 AM and 4-6 PM.\n",
        "* Casual customer riders counts are far less than subscribed riders"
      ],
      "metadata": {
        "id": "yA7Ohez5tG3e"
      }
    },
    {
      "cell_type": "markdown",
      "source": [
        "**Relationship between time characteristics and Rider Gender**"
      ],
      "metadata": {
        "id": "F2bgJvBxtL4U"
      }
    },
    {
      "cell_type": "code",
      "source": [
        "# set subplots\n",
        "fig, ax = plt.subplots(nrows=3, figsize = [10,15])\n",
        "\n",
        "# plot the relationship\n",
        "sb.countplot(data = df, x = 'start_day', hue = 'member_gender', ax = ax[0], order = day_order)\n",
        "sb.countplot(data = df, x = 'start_month', hue = 'member_gender', ax = ax[1], order = month_order)\n",
        "sb.countplot(data = df, x = 'start_hour', hue = 'member_gender', ax = ax[2], order = hour_order);\n",
        "\n",
        "# title and labels\n",
        "for a in ax:\n",
        "    a.set_ylabel('Rides Frequency')\n",
        "    \n",
        "ax[0].set_xlabel('Day of the week')\n",
        "ax[0].set_title('Relationship between Day of the week and Member Gender')\n",
        "ax[1].set_xlabel('Month of the year')\n",
        "ax[1].set_title('Relationship between Month of the year and Member Gender')\n",
        "ax[2].set_xlabel('Hour of the day')\n",
        "ax[2].set_title('Relationship between Hour of the day and Member Gender')\n",
        "\n",
        "fig.tight_layout();"
      ],
      "metadata": {
        "id": "J5TsD2JMtOIx"
      },
      "execution_count": null,
      "outputs": []
    },
    {
      "cell_type": "markdown",
      "source": [
        "* Number of rides are greater for Males and lower for Customer.\n",
        "* Males are making more number of rides in weekdays rather than weekends.\n",
        "* In winter season, Males are making more number of rides.\n",
        "* Males are making more number of rides during peak hours 8-9 AM and 4-6 PM."
      ],
      "metadata": {
        "id": "UdEBe0JFtQPZ"
      }
    },
    {
      "cell_type": "markdown",
      "source": [
        "**Relationship between time characteristics and Rider Age**"
      ],
      "metadata": {
        "id": "M_MYDuELtWKO"
      }
    },
    {
      "cell_type": "code",
      "source": [
        "# set subplots\n",
        "fig, ax = plt.subplots(nrows=3, figsize = [8,12])\n",
        "\n",
        "# plot relationship\n",
        "sb.violinplot(data = df, x = 'start_day', y = 'member_age', ax = ax[0], order = day_order, color = default_color)\n",
        "sb.violinplot(data = df, x = 'start_month', y = 'member_age', ax = ax[1], order = month_order, color = default_color)\n",
        "sb.violinplot(data = df, x = 'start_hour', y = 'member_age', ax = ax[2], order = hour_order, color = default_color);\n",
        "\n",
        "# title and labels\n",
        "for a in ax:\n",
        "    a.set_ylabel('Riders Age (years)')\n",
        "    \n",
        "ax[0].set_xlabel('Day of the week')\n",
        "ax[0].set_title('Relationship between Day of the week and Riders Age')\n",
        "ax[1].set_xlabel('Month of the year')\n",
        "ax[1].set_title('Relationship between Month of the year and Riders Age')\n",
        "ax[2].set_xlabel('Hour of the day')\n",
        "ax[2].set_title('Relationship between Hour of the day and Riders Age')\n",
        "\n",
        "fig.tight_layout();"
      ],
      "metadata": {
        "id": "eIOMXh4ItY7B"
      },
      "execution_count": null,
      "outputs": []
    }
  ]
}